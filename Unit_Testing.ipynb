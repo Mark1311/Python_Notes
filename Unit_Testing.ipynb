{
 "cells": [
  {
   "cell_type": "markdown",
   "id": "2fb87240",
   "metadata": {},
   "source": [
    "# Unit Testing"
   ]
  },
  {
   "cell_type": "markdown",
   "id": "abaf600d-13c4-4302-ac07-a412e8b2db93",
   "metadata": {},
   "source": [
    "## What is Unit Testing?"
   ]
  },
  {
   "cell_type": "markdown",
   "id": "a4420d6e-b67c-4be1-bf65-a004d54dcc59",
   "metadata": {},
   "source": [
    "Unit testing Python mein ek process hoti hai jisme aap apne code ke chhote-chhote hisson (functions ya methods) ko independently test karte hain. Iska main goal yeh hota hai ki aapke code ke har part ka behavior sahi ho aur jab aap code me koi changes karte hain, toh purana code bhi sahi tarike se kaam kare.\n",
    "\n",
    "Python mein unit testing ko test cases likhkar kiya jaata hai, jisme aap specify karte hain ki aapke function se kis tarah ka output expect kiya jaa raha hai."
   ]
  },
  {
   "cell_type": "markdown",
   "id": "3975f8cb-69e9-43e1-976a-44edc6db80fa",
   "metadata": {},
   "source": [
    "Test Case ==>  TestAddFunction ek test case hai jo unittest.TestCase class se inherit karta hai.\n",
    "\n",
    "Assertions ==>  self.assertEqual() method ko use karte hue hum function ke result ko expected output ke saath compare karte hain.\n",
    "\n",
    "Test Runner ==>  unittest.main() function tests ko run karta hai."
   ]
  },
  {
   "cell_type": "markdown",
   "id": "8aa3a58c-39ea-4e7d-bd11-6b056f49c306",
   "metadata": {},
   "source": [
    "### Unit Testing ka Purpose:-\n",
    "\n",
    "Unit testing ka main purpose yeh hai ki aap apne code ke har individual unit (jaise ki functions, methods, ya classes) ko independently test karein taaki aap ensure kar sakein ki har ek part sahi kaam kar raha hai. Agar koi bug ya error hota hai, toh usse bahut jaldi pakda jaa sakta hai, aur usse fix karna aasan ho jaata hai."
   ]
  },
  {
   "cell_type": "markdown",
   "id": "9472cf21-0945-4ba5-9619-efe9082737f3",
   "metadata": {},
   "source": [
    "### Unit Test Ka Structure:\n",
    "\n",
    "Test Case: Test case ek aisa code block hota hai jo ek particular functionality ko test karta hai.\n",
    "\n",
    "Assertions: Assertions wo statements hote hain jo test karte hain ki aapka code expected results de raha hai ya nahi.\n",
    "\n",
    "Test Suite: Test suite ek collection hoti hai test cases ki jo ek saath run ki jaati hai."
   ]
  },
  {
   "cell_type": "markdown",
   "id": "6cf18cb8-5ff6-4b4b-b786-646f3ffe8ee0",
   "metadata": {},
   "source": [
    "### Python mein unittest module:\n",
    "\n",
    "Python mein unittest module ka use karke hum apne code ka unit testing kar sakte hain. Yeh module ek framework provide karta hai jo test cases likhne, test results ko evaluate karne, aur tests ko automate karne mein help karta hai."
   ]
  },
  {
   "cell_type": "markdown",
   "id": "3be3ab88-3301-42be-b93e-e0cbefdd872b",
   "metadata": {},
   "source": [
    "### mportant Concepts:\n",
    "\n",
    "#### Test Case: \n",
    "\n",
    "Ek test case wo method hoti hai jo ek specific functionality ko test karti hai. Jaise ki ek function ka output ya behavior.\n",
    "\n",
    "#### Assertions: \n",
    "    \n",
    "Assertions wo conditions hain jo aap test case mein likhte hain taaki check kar sakein ki function ka output expected value ke barabar hai ya nahi. Kuch common assertions yeh hain:\n",
    "\n",
    "assertEqual(a, b) — Aap check karte hain ki a aur b ki value barabar honi chahiye.\n",
    "\n",
    "assertTrue(x) — Aap check karte hain ki x ki value True honi chahiye.\n",
    "\n",
    "assertFalse(x) — Aap check karte hain ki x ki value False honi chahiye.\n",
    "\n",
    "assertRaises(exception, function, *args, **kwargs) — Aap check karte hain ki function call karne se exception raise ho raha hai ya nahi.\n",
    "\n",
    "#### Test Suite: \n",
    "\n",
    "Test suite ek collection hoti hai test cases ki, jise ek saath execute kiya jaa sakta hai. Aap manually ya automatically test cases ko group kar sakte hain."
   ]
  },
  {
   "cell_type": "code",
   "execution_count": null,
   "id": "0de793cf-0794-4a71-ae42-17276719fc5f",
   "metadata": {},
   "outputs": [],
   "source": [
    "import unittest\n",
    "\n",
    "# Function to be tested\n",
    "def multiply(a, b):\n",
    "    return a * b\n",
    "\n",
    "# Unit Test Class\n",
    "class TestMultiplyFunction(unittest.TestCase):\n",
    "\n",
    "    # Test Case 1: Multiply two positive numbers\n",
    "    def test_multiply_positive(self):\n",
    "        self.assertEqual(multiply(2, 3), 6)  # Expected result is 6\n",
    "\n",
    "    # Test Case 2: Multiply a positive number and a negative number\n",
    "    def test_multiply_negative(self):\n",
    "        self.assertEqual(multiply(2, -3), -6)  # Expected result is -6\n",
    "\n",
    "    # Test Case 3: Multiply a number with zero\n",
    "    def test_multiply_zero(self):\n",
    "        self.assertEqual(multiply(0, 5), 0)  # Expected result is 0\n",
    "\n",
    "    # Test Case 4: Test that the function raises an exception for invalid input\n",
    "    def test_multiply_invalid_input(self):\n",
    "        with self.assertRaises(TypeError):  # Expecting TypeError if inputs are invalid\n",
    "            multiply(\"string\", 5)\n",
    "\n",
    "# Run the test cases\n",
    "if __name__ == \"__main__\":\n",
    "    unittest.main()\n"
   ]
  },
  {
   "cell_type": "markdown",
   "id": "0aa44ad2-690d-43d5-85e4-4c7bbcc49557",
   "metadata": {},
   "source": [
    "Function to Test: Humne ek multiply function banaya hai jo do numbers ko multiply karta hai.\n",
    "\n",
    "Test Case 1: test_multiply_positive mein humne do positive numbers ko multiply karke check kiya ki result sahi hai ya nahi.\n",
    "\n",
    "Test Case 2: test_multiply_negative mein humne ek positive aur ek negative number ko multiply kiya.\n",
    "\n",
    "Test Case 3: test_multiply_zero mein humne zero ke saath multiplication check kiya.\n",
    "\n",
    "Test Case 4: test_multiply_invalid_input mein humne check kiya ki agar function ko invalid input diya jaye (jaise string aur integer ka combination), toh woh TypeError raise karega.\n",
    "\n",
    "Test Runner: unittest.main() function tests ko run karta hai."
   ]
  },
  {
   "cell_type": "markdown",
   "id": "273924a5-f121-4425-ba20-227edfd5b3e7",
   "metadata": {},
   "source": [
    "# Advantage of Unit Testing"
   ]
  },
  {
   "cell_type": "markdown",
   "id": "5d17358d-1a8b-4154-9218-f68a16275a16",
   "metadata": {},
   "source": [
    "1. Code ki Quality behtar hoti hai\n",
    "\n",
    "2. Debugging asaan ho jaati hai\n",
    "\n",
    "3.Refactoring mein madad milti hai\n",
    "\n",
    "4. Documentation ki tarah kaam karta hai\n",
    "\n",
    "5. Developer ka confidence barhta hai\n",
    "\n",
    "6. Cost-effective hota hai\n",
    "\n",
    "7. Continuous Integration (CI) mein madad\n",
    "\n",
    "8. Code Design behtar hota hai"
   ]
  },
  {
   "cell_type": "markdown",
   "id": "92da91b7-0c22-4b9b-a684-c56485eccd1d",
   "metadata": {},
   "source": [
    "# DisAdvantage of UT?"
   ]
  },
  {
   "cell_type": "markdown",
   "id": "fda990dc-ecac-478c-8ec6-b181bbeb8fbf",
   "metadata": {},
   "source": [
    "1. Time and Effort\n",
    "\n",
    "2. Dependence on Developers\n",
    "\n",
    "3. Difficulty in Testing Complex Units\n",
    "\n",
    "4. Difficulty in Testing Interactions\n",
    "\n",
    "5. Difficulty in Testing User Interfaces\n",
    "\n",
    "6. Over-reliance on Automation\n",
    "\n",
    "7. Maintenance Overhead"
   ]
  },
  {
   "cell_type": "markdown",
   "id": "41127ddd-2413-40ad-92bf-66c95ebd18fa",
   "metadata": {},
   "source": [
    "# Assert Methods in Python Unittest"
   ]
  },
  {
   "cell_type": "markdown",
   "id": "3ed90ba9-3b38-493f-aefb-82666ce20e8f",
   "metadata": {},
   "source": [
    "### assertEqual(a, b)\n",
    "Checks if a == b"
   ]
  },
  {
   "cell_type": "code",
   "execution_count": null,
   "id": "a4f965cf-5e5f-43b0-a7d9-d9b6875ff018",
   "metadata": {},
   "outputs": [],
   "source": [
    "self.assertEqual(2 + 2, 4)  # Passes\n",
    "self.assertEqual(2 + 2, 5)  # Fails"
   ]
  },
  {
   "cell_type": "markdown",
   "id": "2aec8f9b-1c11-423a-a090-d8df4ad96538",
   "metadata": {},
   "source": [
    "### assertNotEqual(a, b)\n",
    "Checks if a != b"
   ]
  },
  {
   "cell_type": "code",
   "execution_count": null,
   "id": "47ded666-98b2-40eb-a8b4-bfce7583fbe3",
   "metadata": {},
   "outputs": [],
   "source": [
    "self.assertNotEqual(2 + 2, 5)  # Passes\n",
    "self.assertNotEqual(2 + 2, 4)  # Fails"
   ]
  },
  {
   "cell_type": "markdown",
   "id": "5758bf65-adbf-4171-9666-ab53bed0bb49",
   "metadata": {},
   "source": [
    "### assertTrue(x)\n",
    "Checks if x is true"
   ]
  },
  {
   "cell_type": "code",
   "execution_count": null,
   "id": "4ad3d593-32df-45e1-8675-2b6f7dea12d1",
   "metadata": {},
   "outputs": [],
   "source": [
    "self.assertTrue(1 == 1)  # Passes\n",
    "self.assertTrue(1 == 2)  # Fails"
   ]
  },
  {
   "cell_type": "markdown",
   "id": "f900db4e-b9da-4926-82fb-b50cad7c8d78",
   "metadata": {},
   "source": [
    "### assertFalse(x)\n",
    "Checks if x is false."
   ]
  },
  {
   "cell_type": "code",
   "execution_count": null,
   "id": "b2017a2a-aa88-47d8-aa53-34ade834989d",
   "metadata": {},
   "outputs": [],
   "source": [
    "self.assertFalse(1 == 2)  # Passes\n",
    "self.assertFalse(1 == 1)  # Fails"
   ]
  },
  {
   "cell_type": "markdown",
   "id": "169b82d1-1163-44d8-b376-82ae5042d39f",
   "metadata": {},
   "source": [
    "### assertIs(a, b)\n",
    "Checks if a is b (using is)"
   ]
  },
  {
   "cell_type": "code",
   "execution_count": null,
   "id": "0be861db-2b4f-45f1-9ec2-87a326da47e5",
   "metadata": {},
   "outputs": [],
   "source": [
    "self.assertIs(None, None)  # Passes\n",
    "self.assertIs(2, 2)  # Fails, because they are not the same object"
   ]
  },
  {
   "cell_type": "markdown",
   "id": "97ed6095-f8f0-4308-a60e-07c0fad3125a",
   "metadata": {},
   "source": [
    "### assertIsNot(a, b)\n",
    "Checks if a is not b (using is not)."
   ]
  },
  {
   "cell_type": "code",
   "execution_count": null,
   "id": "25fc2339-57ec-4feb-bb1b-687ca5400259",
   "metadata": {},
   "outputs": [],
   "source": [
    "self.assertIsNot(None, 2)  # Passes\n",
    "self.assertIsNot(2, 2)  # Fails"
   ]
  },
  {
   "cell_type": "markdown",
   "id": "7b629c29-9fed-4500-b7cc-0f6d88994aec",
   "metadata": {},
   "source": [
    "### assertIsNone(x)\n",
    "Checks if x is None."
   ]
  },
  {
   "cell_type": "code",
   "execution_count": null,
   "id": "a4be4a92-d33e-49f9-8fd8-b9fb12da511e",
   "metadata": {},
   "outputs": [],
   "source": [
    "self.assertIsNone(None)  # Passes\n",
    "self.assertIsNone(1)  # Fails"
   ]
  },
  {
   "cell_type": "markdown",
   "id": "9c18d2bf-540b-45b5-a33c-076374f4b5b0",
   "metadata": {},
   "source": [
    "### assertIsNotNone(x)\n",
    "Checks if x is not None."
   ]
  },
  {
   "cell_type": "code",
   "execution_count": null,
   "id": "478258ba-6009-4da4-9f70-c959c3d98846",
   "metadata": {},
   "outputs": [],
   "source": [
    "self.assertIsNotNone(1)  # Passes\n",
    "self.assertIsNotNone(None)  # Fails"
   ]
  },
  {
   "cell_type": "markdown",
   "id": "cb98ded4-bc86-41c2-9ae5-05b6801c89d6",
   "metadata": {},
   "source": [
    "### assertIn(a, b)\n",
    "Checks if a is in b.\n",
    "Fails if a is not in b."
   ]
  },
  {
   "cell_type": "code",
   "execution_count": null,
   "id": "a879727b-8f25-4223-88a7-5237285de489",
   "metadata": {},
   "outputs": [],
   "source": [
    "self.assertIn(3, [1, 2, 3])  # Passes\n",
    "self.assertIn(4, [1, 2, 3])  # Fails"
   ]
  },
  {
   "cell_type": "markdown",
   "id": "8bbf60e4-a810-468d-bdc3-fe13742befc0",
   "metadata": {},
   "source": [
    "### assertNotIn(a, b)\n",
    "Checks if a is not in b.\n",
    "Fails if a is in b."
   ]
  },
  {
   "cell_type": "code",
   "execution_count": null,
   "id": "45b0f21f-8870-4ac9-a08d-b25159b0fe32",
   "metadata": {},
   "outputs": [],
   "source": [
    "self.assertNotIn(4, [1, 2, 3])  # Passes\n",
    "self.assertNotIn(3, [1, 2, 3])  # Fails"
   ]
  },
  {
   "cell_type": "markdown",
   "id": "09b255a1-8fea-445c-8efc-8d3daf5b123f",
   "metadata": {},
   "source": [
    "### assertIsInstance(a, b)\n",
    "Checks if a is an instance of class b.\n",
    "Fails if a is not an instance of b."
   ]
  },
  {
   "cell_type": "code",
   "execution_count": null,
   "id": "3ebd9528-f8e6-41f4-91e0-21b435ec7ce8",
   "metadata": {},
   "outputs": [],
   "source": [
    "self.assertIsInstance(5, int)  # Passes\n",
    "self.assertIsInstance(5, str)  # Fails"
   ]
  },
  {
   "cell_type": "markdown",
   "id": "b3a97048-3300-4066-a295-b3dd02628461",
   "metadata": {},
   "source": [
    "### assertNotIsInstance(a, b)\n",
    "Checks if a is not an instance of class b.\n",
    "Fails if a is an instance of b."
   ]
  },
  {
   "cell_type": "code",
   "execution_count": null,
   "id": "772e11a7-b614-4c5a-aac6-c8701f509601",
   "metadata": {},
   "outputs": [],
   "source": [
    "self.assertNotIsInstance(5, str)  # Passes\n",
    "self.assertNotIsInstance(5, int)  # Fails"
   ]
  },
  {
   "cell_type": "markdown",
   "id": "13f482ea-b73d-43ff-8977-5ca7609920c7",
   "metadata": {},
   "source": [
    "### assertGreater(a, b)\n",
    "Checks if a > b.\n",
    "Fails if a is not greater than b"
   ]
  },
  {
   "cell_type": "code",
   "execution_count": null,
   "id": "c6fc4375-3c22-4686-aad6-611c0a2777c8",
   "metadata": {},
   "outputs": [],
   "source": [
    "self.assertGreater(5, 3)  # Passes\n",
    "self.assertGreater(3, 5)  # Fails"
   ]
  },
  {
   "cell_type": "markdown",
   "id": "f9fc763f-b58a-4a93-9b80-089b4fd77838",
   "metadata": {},
   "source": [
    "### assertGreaterEqual(a, b)\n",
    "Checks if a >= b.\n",
    "Fails if a is less than b."
   ]
  },
  {
   "cell_type": "code",
   "execution_count": null,
   "id": "b984475c-786b-4d47-ab83-08a1f9b02005",
   "metadata": {},
   "outputs": [],
   "source": [
    "self.assertGreaterEqual(5, 3)  # Passes\n",
    "self.assertGreaterEqual(3, 5)  # Fails"
   ]
  },
  {
   "cell_type": "markdown",
   "id": "238f5bbe-ba7e-425e-8e68-655539694f25",
   "metadata": {},
   "source": [
    "### assertLess(a, b)\n",
    "Checks if a < b.\n",
    "Fails if a is not less than b."
   ]
  },
  {
   "cell_type": "code",
   "execution_count": null,
   "id": "f6e851f6-9dbe-4a62-98e3-3d8ca5e9db18",
   "metadata": {},
   "outputs": [],
   "source": [
    "self.assertLess(3, 5)  # Passes\n",
    "self.assertLess(5, 3)  # Fails"
   ]
  },
  {
   "cell_type": "markdown",
   "id": "65935607-c38f-44b5-a7d2-3d36d8760bbc",
   "metadata": {},
   "source": [
    "### assertLessEqual(a, b)\n",
    "Checks if a <= b.\n",
    "Fails if a is greater than b."
   ]
  },
  {
   "cell_type": "code",
   "execution_count": null,
   "id": "7d37f8c1-dd45-4e29-9e89-02157afdcce3",
   "metadata": {},
   "outputs": [],
   "source": [
    "self.assertLessEqual(3, 5)  # Passes\n",
    "self.assertLessEqual(5, 3)  # Fails"
   ]
  },
  {
   "cell_type": "code",
   "execution_count": null,
   "id": "5665957f-d46f-429f-abdf-4c97573eb6af",
   "metadata": {},
   "outputs": [],
   "source": [
    "# Example:--->\n",
    "\n",
    "import unittest\n",
    "\n",
    "class TestMathOperations(unittest.TestCase):\n",
    "\n",
    "    def test_addition(self):\n",
    "        self.assertEqual(2 + 2, 4)\n",
    "        self.assertNotEqual(2 + 2, 5)\n",
    "        self.assertTrue(2 + 2 == 4)\n",
    "        self.assertFalse(2 + 2 == 5)\n",
    "\n",
    "if __name__ == '__main__':\n",
    "    unittest.main()\n"
   ]
  },
  {
   "cell_type": "markdown",
   "id": "c5a66c11-0e84-45a2-9119-82f65f8a79e8",
   "metadata": {},
   "source": [
    "# Write a unit test for a simple method that checks if a number is prime."
   ]
  },
  {
   "cell_type": "code",
   "execution_count": null,
   "id": "85c2216b-0ac7-48c3-b9a9-5c855b9297b1",
   "metadata": {},
   "outputs": [],
   "source": [
    "def is_prime(n):\n",
    "    if n <= 1:\n",
    "        return False\n",
    "    for i in range(2, int(n ** 0.5) + 1):\n",
    "        if n % i == 0:\n",
    "            return False\n",
    "    return True"
   ]
  },
  {
   "cell_type": "code",
   "execution_count": null,
   "id": "42f948b7-893b-482f-a880-c589ebc0a482",
   "metadata": {},
   "outputs": [],
   "source": [
    "import unittest\n",
    "\n",
    "class TestPrimeMethod(unittest.TestCase):\n",
    "    \n",
    "    def test_prime_numbers(self):\n",
    "        # Test some known prime numbers\n",
    "        self.assertTrue(is_prime(2))\n",
    "        self.assertTrue(is_prime(3))\n",
    "        self.assertTrue(is_prime(5))\n",
    "        self.assertTrue(is_prime(7))\n",
    "        self.assertTrue(is_prime(11))\n",
    "        \n",
    "    def test_non_prime_numbers(self):\n",
    "        # Test non-prime numbers\n",
    "        self.assertFalse(is_prime(1))\n",
    "        self.assertFalse(is_prime(4))\n",
    "        self.assertFalse(is_prime(6))\n",
    "        self.assertFalse(is_prime(8))\n",
    "        self.assertFalse(is_prime(9))\n",
    "        \n",
    "    def test_large_prime_number(self):\n",
    "        # Test a large prime number\n",
    "        self.assertTrue(is_prime(997))\n",
    "\n",
    "    def test_large_non_prime_number(self):\n",
    "        # Test a large non-prime number\n",
    "        self.assertFalse(is_prime(1000000))\n",
    "\n",
    "if __name__ == \"__main__\":\n",
    "    unittest.main()"
   ]
  },
  {
   "cell_type": "code",
   "execution_count": null,
   "id": "d866ea54-f225-4a22-95a5-c17f6e1adc7b",
   "metadata": {},
   "outputs": [],
   "source": []
  }
 ],
 "metadata": {
  "kernelspec": {
   "display_name": "Python 3 (ipykernel)",
   "language": "python",
   "name": "python3"
  },
  "language_info": {
   "codemirror_mode": {
    "name": "ipython",
    "version": 3
   },
   "file_extension": ".py",
   "mimetype": "text/x-python",
   "name": "python",
   "nbconvert_exporter": "python",
   "pygments_lexer": "ipython3",
   "version": "3.12.6"
  }
 },
 "nbformat": 4,
 "nbformat_minor": 5
}
