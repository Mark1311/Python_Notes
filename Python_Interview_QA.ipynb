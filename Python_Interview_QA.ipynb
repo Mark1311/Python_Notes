{
 "cells": [
  {
   "cell_type": "markdown",
   "id": "a0fd9cac",
   "metadata": {},
   "source": [
    "# What are Python’s key features?"
   ]
  },
  {
   "cell_type": "markdown",
   "id": "d1f30c9e",
   "metadata": {},
   "source": [
    "* Simple and Readable Syntax\n",
    "\n",
    "* Interpreted\n",
    "\n",
    "* Dynamically Typed\n",
    "\n",
    "* Multi-Paradigm\n",
    "\n",
    "* Extensive Standard Library\n",
    "\n",
    "* Cross-Platform\n",
    "\n",
    "* High-Level\n",
    "\n",
    "* Open Source\n",
    "\n",
    "* Large Ecosystem\n",
    "\n",
    "* Community Support\n",
    "\n",
    "* Embeddable and Extensible"
   ]
  },
  {
   "cell_type": "markdown",
   "id": "616a658c",
   "metadata": {},
   "source": [
    "# What is the difference between is and ==?\n"
   ]
  },
  {
   "cell_type": "markdown",
   "id": "c12dcf22",
   "metadata": {},
   "source": [
    "* is: \n",
    "\n",
    "Checks whether two variables refer to the same object in memory (identity comparison).\n",
    "\n",
    "* ==: \n",
    "\n",
    "Checks whether the values of two variables are equal (value comparison)."
   ]
  },
  {
   "cell_type": "markdown",
   "id": "2fc78e64",
   "metadata": {},
   "source": [
    "is: Used to check if two objects are identical (same memory location).\n"
   ]
  },
  {
   "cell_type": "code",
   "execution_count": null,
   "id": "7f7d8807",
   "metadata": {},
   "outputs": [],
   "source": [
    "a = [1, 2, 3]\n",
    "b = a\n",
    "print(a is b)  # True (same object)"
   ]
  },
  {
   "cell_type": "markdown",
   "id": "4f7bfdf9",
   "metadata": {},
   "source": [
    "==: Used to check if two objects have the same value, regardless of their memory location."
   ]
  },
  {
   "cell_type": "code",
   "execution_count": null,
   "id": "e06fe350",
   "metadata": {},
   "outputs": [],
   "source": [
    "a = [1, 2, 3]\n",
    "b = [1, 2, 3]\n",
    "print(a == b)  # True (same value)\n",
    "print(a is b)  # False (different objects)"
   ]
  },
  {
   "cell_type": "markdown",
   "id": "d4bc2672",
   "metadata": {},
   "source": [
    "### Behavior with Immutable Types"
   ]
  },
  {
   "cell_type": "markdown",
   "id": "6215164c",
   "metadata": {},
   "source": [
    "For immutable types (like integers, strings), is may return True for objects with the same value due to Python's internal caching."
   ]
  },
  {
   "cell_type": "code",
   "execution_count": null,
   "id": "d578f19f",
   "metadata": {},
   "outputs": [],
   "source": [
    "a = 1000\n",
    "b = 1000\n",
    "print(a == b)  # True (values are equal)\n",
    "print(a is b)  # False (different objects, no caching for large integers)\n",
    "\n",
    "x = 10\n",
    "y = 10\n",
    "print(x == y)  # True (values are equal)\n",
    "print(x is y)  # True (small integers are cached)"
   ]
  },
  {
   "cell_type": "markdown",
   "id": "bd847365",
   "metadata": {},
   "source": [
    "##### What Are Immutable Types?\n",
    "\n",
    "Immutable types are objects whose value cannot be changed after creation. Examples include:\n",
    "\n",
    "* Integers (int)\n",
    "\n",
    "* Strings (str)\n",
    "\n",
    "* Tuples (tuple)"
   ]
  },
  {
   "cell_type": "markdown",
   "id": "1486f71d",
   "metadata": {},
   "source": [
    "#### How is Works with Immutable Types\n"
   ]
  },
  {
   "cell_type": "markdown",
   "id": "f8b79873",
   "metadata": {},
   "source": [
    "* Python internally optimizes memory usage for immutable objects by reusing objects with the same value in some cases.\n",
    "\n",
    "* This optimization is called object interning.\n",
    "\n",
    "##### Small Immutable Objects (e.g., Small Integers, Short Strings)\n",
    "\n",
    "* Python caches small integers (commonly from -5 to 256) and short strings for performance reasons.\n",
    "\n",
    "* If two variables are assigned the same small integer or string, they point to the same memory location."
   ]
  },
  {
   "cell_type": "code",
   "execution_count": null,
   "id": "86218bf0",
   "metadata": {},
   "outputs": [],
   "source": [
    "a = 10\n",
    "b = 10\n",
    "print(a is b)  # True (10 is cached)\n",
    "\n",
    "x = \"hello\"\n",
    "y = \"hello\"\n",
    "print(x is y)  # True (short strings are cached)"
   ]
  },
  {
   "cell_type": "markdown",
   "id": "d4878948",
   "metadata": {},
   "source": [
    "###### Large Immutable Objects\n",
    "\n",
    "* For larger integers and longer strings, Python does not guarantee caching. New objects are created in memory."
   ]
  },
  {
   "cell_type": "code",
   "execution_count": 1,
   "id": "4d73784c",
   "metadata": {},
   "outputs": [
    {
     "name": "stdout",
     "output_type": "stream",
     "text": [
      "False\n",
      "False\n"
     ]
    }
   ],
   "source": [
    "a = 1000\n",
    "b = 1000\n",
    "print(a is b)  # False (different objects in memory)\n",
    "\n",
    "x = \"a very long string\"\n",
    "y = \"a very long string\"\n",
    "print(x is y)  # False (no caching for long strings)\n"
   ]
  },
  {
   "cell_type": "markdown",
   "id": "044a0e12",
   "metadata": {},
   "source": [
    "##### Why This Happens?\n",
    "\n",
    "* Caching small values avoids repeatedly creating new objects, which saves memory and improves performance.\n",
    "\n",
    "* For larger or more complex objects, Python creates separate objects to avoid unnecessary overhead.\n",
    "\n"
   ]
  },
  {
   "cell_type": "markdown",
   "id": "8b966cf2",
   "metadata": {},
   "source": [
    "##### Key Takeaway\n",
    "\n",
    "* For small immutable objects like integers in the range -5 to 256 and short strings, is may return True because Python reuses them.\n",
    "\n",
    "* For large immutable objects, is usually returns False because Python creates new objects even if their values are the same."
   ]
  },
  {
   "cell_type": "markdown",
   "id": "2c569369",
   "metadata": {},
   "source": [
    "# What are Python's mutable and immutable data types?\n"
   ]
  },
  {
   "cell_type": "markdown",
   "id": "d70cbeaf",
   "metadata": {},
   "source": [
    "#### Immutable Data Types"
   ]
  },
  {
   "cell_type": "markdown",
   "id": "6a118d45",
   "metadata": {},
   "source": [
    "* Numbers: int, float, complex\n",
    "\n",
    "* Strings: str\n",
    "\n",
    "* Tuples: tuple\n",
    "\n",
    "* Frozen Sets: frozenset\n",
    "\n",
    "* Booleans: bool"
   ]
  },
  {
   "cell_type": "markdown",
   "id": "40effbf2",
   "metadata": {},
   "source": [
    "#### Mutable Data Types"
   ]
  },
  {
   "cell_type": "markdown",
   "id": "a1bea66d",
   "metadata": {},
   "source": [
    "* Lists: list\n",
    "\n",
    "* Dictionaries: dict\n",
    "\n",
    "* Sets: set\n",
    "\n",
    "* Byte Arrays: bytearray"
   ]
  },
  {
   "cell_type": "markdown",
   "id": "b40de9e5",
   "metadata": {},
   "source": [
    "| **Aspect**          | **Mutable**                  | **Immutable**         |\n",
    "| ------------------- | ---------------------------- | --------------------- |\n",
    "| **Modification**    | Allowed                      | Not allowed           |\n",
    "| **Memory Behavior** | Modifies the existing object | Creates a new object  |\n",
    "| **Examples**        | `list`, `dict`, `set`        | `int`, `str`, `tuple` |\n"
   ]
  },
  {
   "cell_type": "markdown",
   "id": "90fabaea",
   "metadata": {},
   "source": [
    "# What are Python's built-in data structures?"
   ]
  },
  {
   "cell_type": "markdown",
   "id": "a7f5dcc4",
   "metadata": {},
   "source": [
    "| **Data Structure** | **Mutable** | **Allows Duplicates** | **Ordered** |\n",
    "| ------------------ | ----------- | --------------------- | ----------- |\n",
    "| **List**           | Yes         | Yes                   | Yes         |\n",
    "| **Tuple**          | No          | Yes                   | Yes         |\n",
    "| **Dictionary**     | Yes         | Keys: No, Values: Yes | No          |\n",
    "| **Set**            | Yes         | No                    | No          |\n",
    "| **Frozenset**      | No          | No                    | No          |\n",
    "| **String**         | No          | Yes                   | Yes         |\n"
   ]
  },
  {
   "cell_type": "code",
   "execution_count": 2,
   "id": "e55a6025",
   "metadata": {},
   "outputs": [],
   "source": [
    "my_frozenset = frozenset([1, 2, 3])"
   ]
  },
  {
   "cell_type": "markdown",
   "id": "ff1ff40e",
   "metadata": {},
   "source": [
    "# What is the use of self in Python classes?\n"
   ]
  },
  {
   "cell_type": "markdown",
   "id": "88cd6736",
   "metadata": {},
   "source": [
    "Python me self ek convention hai jo kisi class ke instance (object) ko refer karta hai. Ye class ke methods aur properties ko access karne aur manage karne ke liye use hota hai, har object ke liye alag-alag."
   ]
  },
  {
   "cell_type": "markdown",
   "id": "7b57ad62",
   "metadata": {},
   "source": [
    "1. Instance variables ko access karne ke liye.\n",
    "\n",
    "self ka use class ke andar variables (attributes) ko instance-specific banane ke liye hota hai."
   ]
  },
  {
   "cell_type": "code",
   "execution_count": null,
   "id": "665e4fe1",
   "metadata": {},
   "outputs": [],
   "source": [
    "class Person:\n",
    "    def __init__(self, name, age):\n",
    "        self.name = name  # Instance variable\n",
    "        self.age = age\n",
    "\n",
    "    def show_details(self):\n",
    "        print(f\"Name: {self.name}, Age: {self.age}\")\n",
    "\n",
    "person1 = Person(\"Ravi\", 25)\n",
    "person2 = Person(\"Anita\", 30)\n",
    "\n",
    "person1.show_details()  # Output: Name: Ravi, Age: 25\n",
    "person2.show_details()  # Output: Name: Anita, Age: 30\n"
   ]
  },
  {
   "cell_type": "markdown",
   "id": "77f47407",
   "metadata": {},
   "source": [
    "2. Methods ko call karne ke liye.\n",
    "\n",
    "Aap ek method se doosre method ko self ke through call kar sakte ho."
   ]
  },
  {
   "cell_type": "code",
   "execution_count": null,
   "id": "a539ed49",
   "metadata": {},
   "outputs": [],
   "source": [
    "class Calculator:\n",
    "    def add(self, a, b):\n",
    "        return a + b\n",
    "\n",
    "    def multiply(self, a, b):\n",
    "        return self.add(a, b) * 2  # add() method ko call kiya\n",
    "\n",
    "calc = Calculator()\n",
    "print(calc.multiply(3, 5))  # Output: 16\n"
   ]
  },
  {
   "cell_type": "markdown",
   "id": "76a6f595",
   "metadata": {},
   "source": [
    "Kyun zaroori hai self?\n",
    "\n",
    "* Python ko yeh batane ke liye ki kis object ke saath kaam ho raha hai.\n",
    "\n",
    "* Har object ki unique identity banaye rakhne ke liye.\n",
    "\n",
    "* Class ke andar instance variables aur methods ko access karne ka standard way hai.\n",
    "\n",
    "Important Notes:\n",
    "\n",
    "* self ek convention hai, iska naam kuch aur bhi ho sakta hai, lekin readability ke liye self use karna best practice hai.\n",
    "\n",
    "* Static methods aur class methods me self ki zarurat nahi hoti."
   ]
  },
  {
   "cell_type": "markdown",
   "id": "6400527d",
   "metadata": {},
   "source": [
    "# Write a function to count the number of vowels in a string.\n"
   ]
  },
  {
   "cell_type": "code",
   "execution_count": 3,
   "id": "9891ced7",
   "metadata": {},
   "outputs": [
    {
     "name": "stdout",
     "output_type": "stream",
     "text": [
      "Number of vowels: 10\n"
     ]
    }
   ],
   "source": [
    "def count_vowels(input_string):\n",
    "\n",
    "    vowels = \"aeiouAEIOU\"  # List of vowels (both lowercase and uppercase)\n",
    "    count = 0\n",
    "    for char in input_string:\n",
    "        if char in vowels:\n",
    "            count += 1\n",
    "    return count\n",
    "\n",
    "# Example usage\n",
    "example_string = \"Hello, how many vowels are there?\"\n",
    "print(f\"Number of vowels: {count_vowels(example_string)}\")"
   ]
  },
  {
   "cell_type": "markdown",
   "id": "ebe98d36",
   "metadata": {},
   "source": [
    "# Class, Instance and Object"
   ]
  },
  {
   "cell_type": "markdown",
   "id": "183e4271",
   "metadata": {},
   "source": [
    "1. Class\n",
    "\n",
    "Definition:\n",
    "\n",
    "* Class ek blueprint ya template hota hai jo objects banane ke liye use hota hai.\n",
    "* Isme attributes (data) aur methods (functions) define kiye jaate hain jo objects use karte hain.\n",
    "\n",
    "Key Point:\n",
    "\n",
    "* Class sirf ek idea ya definition hai, real-world entity nahi hai."
   ]
  },
  {
   "cell_type": "code",
   "execution_count": null,
   "id": "978a194f",
   "metadata": {},
   "outputs": [],
   "source": [
    "class Car:\n",
    "    def __init__(self, brand, color):\n",
    "        self.brand = brand\n",
    "        self.color = color\n",
    "\n",
    "# Yahaan Car ek class hai jo define karti hai ki cars ke paas brand aur color hoga.\n"
   ]
  },
  {
   "cell_type": "markdown",
   "id": "f4160c03",
   "metadata": {},
   "source": [
    "2. Object\n",
    "\n",
    "Definition:\n",
    "\n",
    "* Object ek real-world entity hai jo class ke template ke according banti hai.\n",
    "* Class ke attributes aur methods ka real implementation hota hai object.\n",
    "\n",
    "Key Point:\n",
    "\n",
    "* Objects ek class ke instance hote hain. Ek class se multiple objects ban sakte hain."
   ]
  },
  {
   "cell_type": "code",
   "execution_count": null,
   "id": "2094e0f0",
   "metadata": {},
   "outputs": [],
   "source": [
    "car1 = Car(\"Toyota\", \"Red\")  # Object 1\n",
    "car2 = Car(\"Honda\", \"Blue\")  # Object 2\n",
    "\n",
    "# Yahaan car1 aur car2 objects hain jo Car class ka real-world implementation hain."
   ]
  },
  {
   "cell_type": "markdown",
   "id": "6b12604f",
   "metadata": {},
   "source": [
    "3. Instance\n",
    "\n",
    "Definition:\n",
    "\n",
    "* Instance ek specific object hota hai jo kisi particular class ka hai. Object aur instance kaafi similar hain, lekin instance ka reference specific class ke saath hota hai.\n",
    "\n",
    "Key Point:\n",
    "\n",
    "* Instance ka matlab hota hai \"ye object kis class ka hai\". Har object ek instance hota hai, lekin instance word generally class ke context me use hota hai."
   ]
  },
  {
   "cell_type": "code",
   "execution_count": null,
   "id": "a6ed310f",
   "metadata": {},
   "outputs": [],
   "source": [
    "print(isinstance(car1, Car))  # Output: True\n",
    "\n",
    "# Yahaan car1 ek instance hai Car class ka."
   ]
  },
  {
   "cell_type": "markdown",
   "id": "c9b96d12",
   "metadata": {},
   "source": [
    "| **Aspect**     | **Class**                          | **Object**                                  | **Instance**                     |\n",
    "| -------------- | ---------------------------------- | ------------------------------------------- | -------------------------------- |\n",
    "| **Definition** | Blueprint ya template for objects. | Real-world implementation of class.         | Specific object of a class.      |\n",
    "| **Memory**     | Memory allocate nahi hoti.         | Memory allocate hoti hai.                   | Memory allocate hoti hai.        |\n",
    "| **Relation**   | Objects ko define karta hai.       | Ek class ke multiple objects ho sakte hain. | Har object ek instance hota hai. |\n",
    "| **Example**    | `Car`                              | `car1 = Car(\"Toyota\", \"Red\")`               | `car1` is an instance of `Car`.  |\n"
   ]
  },
  {
   "cell_type": "markdown",
   "id": "c6293253",
   "metadata": {},
   "source": [
    "# What is the difference between a list and a tuple?\n"
   ]
  },
  {
   "cell_type": "markdown",
   "id": "087d9a1b",
   "metadata": {},
   "source": [
    "| **Feature**      | **List**                      | **Tuple**                        |\n",
    "| ---------------- | ----------------------------- | -------------------------------- |\n",
    "| **Mutability**   | Mutable                       | Immutable                        |\n",
    "| **Syntax**       | Square brackets `[ ]`         | Parentheses `( )`                |\n",
    "| **Performance**  | Slower                        | Faster                           |\n",
    "| **Memory Usage** | More                          | Less                             |\n",
    "| **Functions**    | Many (e.g., `append`, `sort`) | Limited (e.g., `count`, `index`) |\n",
    "| **Use Case**     | Dynamic data                  | Fixed data                       |\n"
   ]
  },
  {
   "cell_type": "markdown",
   "id": "e43e7738",
   "metadata": {},
   "source": [
    "# How do you remove duplicates from a list?\n"
   ]
  },
  {
   "cell_type": "code",
   "execution_count": null,
   "id": "aead0e1b",
   "metadata": {},
   "outputs": [],
   "source": [
    "# List with duplicates\n",
    "my_list = [1, 2, 2, 3, 4, 4, 5]\n",
    "\n",
    "# Removing duplicates while preserving order\n",
    "unique_list = []\n",
    "for item in my_list:\n",
    "    if item not in unique_list:\n",
    "        unique_list.append(item)\n",
    "\n",
    "print(unique_list)  # Output: [1, 2, 3, 4, 5]\n"
   ]
  },
  {
   "cell_type": "code",
   "execution_count": null,
   "id": "27d98ae9",
   "metadata": {},
   "outputs": [],
   "source": [
    "# List with duplicates\n",
    "my_list = [1, 2, 2, 3, 4, 4, 5]\n",
    "\n",
    "# Removing duplicates\n",
    "unique_list = list(set(my_list))\n",
    "\n",
    "print(unique_list)  # Output: [1, 2, 3, 4, 5]\n"
   ]
  },
  {
   "cell_type": "markdown",
   "id": "2dca5d00",
   "metadata": {},
   "source": [
    "# Reverse a string in Python.\n"
   ]
  },
  {
   "cell_type": "code",
   "execution_count": null,
   "id": "ae6231a0",
   "metadata": {},
   "outputs": [],
   "source": [
    "# Original string\n",
    "my_string = \"Hello\"\n",
    "\n",
    "# Reversing the string\n",
    "reversed_string = my_string[::-1]\n",
    "\n",
    "print(reversed_string)  # Output: \"olleH\"\n"
   ]
  },
  {
   "cell_type": "code",
   "execution_count": null,
   "id": "dd1e5214",
   "metadata": {},
   "outputs": [],
   "source": [
    "# Original string\n",
    "my_string = \"Hello\"\n",
    "\n",
    "# Reversing the string using a loop\n",
    "reversed_string = \"\"\n",
    "for char in my_string:\n",
    "    reversed_string = char + reversed_string\n",
    "\n",
    "print(reversed_string)  # Output: \"olleH\"\n"
   ]
  },
  {
   "cell_type": "code",
   "execution_count": null,
   "id": "378ce3b8",
   "metadata": {},
   "outputs": [],
   "source": [
    "# Function to reverse a string (Using Recursive)\n",
    "def reverse_string(s):\n",
    "    if len(s) == 0:\n",
    "        return s\n",
    "    return reverse_string(s[1:]) + s[0]\n",
    "\n",
    "# Original string\n",
    "my_string = \"Hello\"\n",
    "\n",
    "# Reversing the string\n",
    "reversed_string = reverse_string(my_string)\n",
    "\n",
    "print(reversed_string)  # Output: \"olleH\"\n"
   ]
  },
  {
   "cell_type": "code",
   "execution_count": null,
   "id": "1234993e",
   "metadata": {},
   "outputs": [],
   "source": [
    "# Original string\n",
    "my_string = \"Hello\"\n",
    "\n",
    "# Reversing the string using reversed()\n",
    "reversed_string = ''.join(reversed(my_string))\n",
    "\n",
    "print(reversed_string)  # Output: \"olleH\"\n"
   ]
  },
  {
   "cell_type": "markdown",
   "id": "9df449f0",
   "metadata": {},
   "source": [
    "| **Method**          | **Simplicity** | **Performance**       | **Recommended Use Case**                 |\n",
    "| ------------------- | -------------- | --------------------- | ---------------------------------------- |\n",
    "| Slicing `[::-1]`    | Very simple    | Very fast             | Best for quick reversals                 |\n",
    "| Loop                | Moderate       | Slower                | If customization is required             |\n",
    "| `reversed()` + join | Simple         | Fast                  | When handling iterables or strings       |\n",
    "| Recursion           | Complex        | Slow (stack overhead) | For learning or conceptual understanding |\n"
   ]
  },
  {
   "cell_type": "markdown",
   "id": "06408a56",
   "metadata": {},
   "source": [
    "# Check if a number is a palindrome.\n"
   ]
  },
  {
   "cell_type": "code",
   "execution_count": null,
   "id": "5bbe5cc4",
   "metadata": {},
   "outputs": [],
   "source": [
    "def is_palindrome(num):\n",
    "    # Convert number to string\n",
    "    num_str = str(num)\n",
    "    # Check if the string is equal to its reverse\n",
    "    return num_str == num_str[::-1]\n",
    "\n",
    "# Test the function\n",
    "print(is_palindrome(121))  # Output: True\n",
    "print(is_palindrome(123))  # Output: False\n"
   ]
  },
  {
   "cell_type": "code",
   "execution_count": null,
   "id": "bc5b923e",
   "metadata": {},
   "outputs": [],
   "source": [
    "def is_palindrome(num):\n",
    "    # Negative numbers are not palindromes\n",
    "    if num < 0:\n",
    "        return False\n",
    "    \n",
    "    original = num\n",
    "    reversed_num = 0\n",
    "\n",
    "    # Reverse the number\n",
    "    while num > 0:\n",
    "        digit = num % 10  # Extract the last digit\n",
    "        reversed_num = reversed_num * 10 + digit  # Build the reversed number\n",
    "        num //= 10  # Remove the last digit\n",
    "    \n",
    "    # Check if original number is equal to reversed number\n",
    "    return original == reversed_num\n",
    "\n",
    "# Test the function\n",
    "print(is_palindrome(121))  # Output: True\n",
    "print(is_palindrome(-121))  # Output: False\n",
    "print(is_palindrome(123))  # Output: False\n"
   ]
  },
  {
   "cell_type": "code",
   "execution_count": null,
   "id": "9bbe723d",
   "metadata": {},
   "outputs": [],
   "source": [
    "def reverse_number(num, reversed_num=0):\n",
    "    if num == 0:\n",
    "        return reversed_num\n",
    "    return reverse_number(num // 10, reversed_num * 10 + num % 10)\n",
    "\n",
    "def is_palindrome(num):\n",
    "    if num < 0:\n",
    "        return False\n",
    "    return num == reverse_number(num)\n",
    "\n",
    "# Test the function\n",
    "print(is_palindrome(121))  # Output: True\n",
    "print(is_palindrome(123))  # Output: False\n"
   ]
  },
  {
   "cell_type": "markdown",
   "id": "59f9b223",
   "metadata": {},
   "source": [
    "| **Method**         | **Converts to String** | **Performance** | **Use Case**                 |\n",
    "| ------------------ | ---------------------- | --------------- | ---------------------------- |\n",
    "| Convert to String  | Yes                    | Fast            | Simple and quick solution    |\n",
    "| Without Conversion | No                     | Efficient       | For pure mathematical checks |\n",
    "| Using Recursion    | No                     | Slower          | For conceptual understanding |\n"
   ]
  },
  {
   "cell_type": "markdown",
   "id": "6f10a0c7",
   "metadata": {},
   "source": [
    "# Find the factorial of a number using recursion.\n"
   ]
  },
  {
   "cell_type": "code",
   "execution_count": null,
   "id": "44787560",
   "metadata": {},
   "outputs": [],
   "source": [
    "def factorial(n):\n",
    "    if n < 0:\n",
    "        return \"Factorial is not defined for negative numbers.\"\n",
    "    if n == 0:\n",
    "        return 1\n",
    "    return n * factorial(n - 1)\n"
   ]
  },
  {
   "cell_type": "markdown",
   "id": "fc304c51",
   "metadata": {},
   "source": [
    "# Find the second largest number in a list.\n"
   ]
  },
  {
   "cell_type": "code",
   "execution_count": null,
   "id": "81c43e1c",
   "metadata": {},
   "outputs": [],
   "source": [
    "def second_largest(numbers):\n",
    "    if len(numbers) < 2:\n",
    "        return \"Second largest does not exist.\"\n",
    "\n",
    "    largest = second = float('-inf')  # Initialize with negative infinity\n",
    "\n",
    "    for num in numbers:\n",
    "        if num > largest:\n",
    "            second = largest\n",
    "            largest = num\n",
    "        elif num > second and num != largest:\n",
    "            second = num\n",
    "\n",
    "    return second if second != float('-inf') else \"Second largest does not exist.\"\n",
    "\n",
    "# Test the function\n",
    "print(second_largest([4, 1, 3, 4, 2]))  # Output: 3\n",
    "print(second_largest([10, 10, 10]))     # Output: \"Second largest does not exist.\"\n"
   ]
  },
  {
   "cell_type": "code",
   "execution_count": null,
   "id": "e2c9421a",
   "metadata": {},
   "outputs": [],
   "source": [
    "def second_largest(numbers):\n",
    "    unique_numbers = list(set(numbers))  # Remove duplicates\n",
    "    if len(unique_numbers) < 2:\n",
    "        return \"Second largest does not exist.\"\n",
    "    unique_numbers.sort(reverse=True)  # Sort in descending order\n",
    "    return unique_numbers[1]  # Return the second largest element\n",
    "\n",
    "# Test the function\n",
    "print(second_largest([4, 1, 3, 4, 2]))  # Output: 3\n",
    "print(second_largest([10, 10, 10]))     # Output: \"Second largest does not exist.\"\n"
   ]
  }
 ],
 "metadata": {
  "kernelspec": {
   "display_name": "Python 3",
   "language": "python",
   "name": "python3"
  },
  "language_info": {
   "codemirror_mode": {
    "name": "ipython",
    "version": 3
   },
   "file_extension": ".py",
   "mimetype": "text/x-python",
   "name": "python",
   "nbconvert_exporter": "python",
   "pygments_lexer": "ipython3",
   "version": "3.12.6"
  }
 },
 "nbformat": 4,
 "nbformat_minor": 5
}
