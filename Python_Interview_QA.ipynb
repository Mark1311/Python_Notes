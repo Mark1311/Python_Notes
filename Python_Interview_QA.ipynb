{
 "cells": [
  {
   "cell_type": "markdown",
   "id": "a0fd9cac",
   "metadata": {},
   "source": [
    "# What are Python’s key features?"
   ]
  },
  {
   "cell_type": "markdown",
   "id": "d1f30c9e",
   "metadata": {},
   "source": [
    "* Simple and Readable Syntax\n",
    "\n",
    "* Interpreted\n",
    "\n",
    "* Dynamically Typed\n",
    "\n",
    "* Multi-Paradigm\n",
    "\n",
    "* Extensive Standard Library\n",
    "\n",
    "* Cross-Platform\n",
    "\n",
    "* High-Level\n",
    "\n",
    "* Open Source\n",
    "\n",
    "* Large Ecosystem\n",
    "\n",
    "* Community Support\n",
    "\n",
    "* Embeddable and Extensible"
   ]
  },
  {
   "cell_type": "markdown",
   "id": "616a658c",
   "metadata": {},
   "source": [
    "# What is the difference between is and ==?\n"
   ]
  },
  {
   "cell_type": "markdown",
   "id": "c12dcf22",
   "metadata": {},
   "source": [
    "* is: \n",
    "\n",
    "Checks whether two variables refer to the same object in memory (identity comparison).\n",
    "\n",
    "* ==: \n",
    "\n",
    "Checks whether the values of two variables are equal (value comparison)."
   ]
  },
  {
   "cell_type": "markdown",
   "id": "2fc78e64",
   "metadata": {},
   "source": [
    "is: Used to check if two objects are identical (same memory location).\n"
   ]
  },
  {
   "cell_type": "code",
   "execution_count": null,
   "id": "7f7d8807",
   "metadata": {},
   "outputs": [],
   "source": [
    "a = [1, 2, 3]\n",
    "b = a\n",
    "print(a is b)  # True (same object)"
   ]
  },
  {
   "cell_type": "markdown",
   "id": "4f7bfdf9",
   "metadata": {},
   "source": [
    "==: Used to check if two objects have the same value, regardless of their memory location."
   ]
  },
  {
   "cell_type": "code",
   "execution_count": null,
   "id": "e06fe350",
   "metadata": {},
   "outputs": [],
   "source": [
    "a = [1, 2, 3]\n",
    "b = [1, 2, 3]\n",
    "print(a == b)  # True (same value)\n",
    "print(a is b)  # False (different objects)"
   ]
  },
  {
   "cell_type": "markdown",
   "id": "d4bc2672",
   "metadata": {},
   "source": [
    "### Behavior with Immutable Types"
   ]
  },
  {
   "cell_type": "markdown",
   "id": "6215164c",
   "metadata": {},
   "source": [
    "For immutable types (like integers, strings), is may return True for objects with the same value due to Python's internal caching."
   ]
  },
  {
   "cell_type": "code",
   "execution_count": null,
   "id": "d578f19f",
   "metadata": {},
   "outputs": [],
   "source": [
    "a = 1000\n",
    "b = 1000\n",
    "print(a == b)  # True (values are equal)\n",
    "print(a is b)  # False (different objects, no caching for large integers)\n",
    "\n",
    "x = 10\n",
    "y = 10\n",
    "print(x == y)  # True (values are equal)\n",
    "print(x is y)  # True (small integers are cached)"
   ]
  },
  {
   "cell_type": "markdown",
   "id": "bd847365",
   "metadata": {},
   "source": [
    "##### What Are Immutable Types?\n",
    "\n",
    "Immutable types are objects whose value cannot be changed after creation. Examples include:\n",
    "\n",
    "* Integers (int)\n",
    "\n",
    "* Strings (str)\n",
    "\n",
    "* Tuples (tuple)"
   ]
  },
  {
   "cell_type": "markdown",
   "id": "1486f71d",
   "metadata": {},
   "source": [
    "#### How is Works with Immutable Types\n"
   ]
  },
  {
   "cell_type": "markdown",
   "id": "f8b79873",
   "metadata": {},
   "source": [
    "* Python internally optimizes memory usage for immutable objects by reusing objects with the same value in some cases.\n",
    "\n",
    "* This optimization is called object interning.\n",
    "\n",
    "##### Small Immutable Objects (e.g., Small Integers, Short Strings)\n",
    "\n",
    "* Python caches small integers (commonly from -5 to 256) and short strings for performance reasons.\n",
    "\n",
    "* If two variables are assigned the same small integer or string, they point to the same memory location."
   ]
  },
  {
   "cell_type": "code",
   "execution_count": null,
   "id": "86218bf0",
   "metadata": {},
   "outputs": [],
   "source": [
    "a = 10\n",
    "b = 10\n",
    "print(a is b)  # True (10 is cached)\n",
    "\n",
    "x = \"hello\"\n",
    "y = \"hello\"\n",
    "print(x is y)  # True (short strings are cached)"
   ]
  },
  {
   "cell_type": "markdown",
   "id": "d4878948",
   "metadata": {},
   "source": [
    "###### Large Immutable Objects\n",
    "\n",
    "* For larger integers and longer strings, Python does not guarantee caching. New objects are created in memory."
   ]
  },
  {
   "cell_type": "code",
   "execution_count": 1,
   "id": "4d73784c",
   "metadata": {},
   "outputs": [
    {
     "name": "stdout",
     "output_type": "stream",
     "text": [
      "False\n",
      "False\n"
     ]
    }
   ],
   "source": [
    "a = 1000\n",
    "b = 1000\n",
    "print(a is b)  # False (different objects in memory)\n",
    "\n",
    "x = \"a very long string\"\n",
    "y = \"a very long string\"\n",
    "print(x is y)  # False (no caching for long strings)\n"
   ]
  },
  {
   "cell_type": "markdown",
   "id": "044a0e12",
   "metadata": {},
   "source": [
    "##### Why This Happens?\n",
    "\n",
    "* Caching small values avoids repeatedly creating new objects, which saves memory and improves performance.\n",
    "\n",
    "* For larger or more complex objects, Python creates separate objects to avoid unnecessary overhead.\n",
    "\n"
   ]
  },
  {
   "cell_type": "markdown",
   "id": "8b966cf2",
   "metadata": {},
   "source": [
    "##### Key Takeaway\n",
    "\n",
    "* For small immutable objects like integers in the range -5 to 256 and short strings, is may return True because Python reuses them.\n",
    "\n",
    "* For large immutable objects, is usually returns False because Python creates new objects even if their values are the same."
   ]
  },
  {
   "cell_type": "markdown",
   "id": "2c569369",
   "metadata": {},
   "source": [
    "# What are Python's mutable and immutable data types?\n"
   ]
  },
  {
   "cell_type": "markdown",
   "id": "d70cbeaf",
   "metadata": {},
   "source": [
    "#### Immutable Data Types"
   ]
  },
  {
   "cell_type": "markdown",
   "id": "6a118d45",
   "metadata": {},
   "source": [
    "* Numbers: int, float, complex\n",
    "\n",
    "* Strings: str\n",
    "\n",
    "* Tuples: tuple\n",
    "\n",
    "* Frozen Sets: frozenset\n",
    "\n",
    "* Booleans: bool"
   ]
  },
  {
   "cell_type": "markdown",
   "id": "40effbf2",
   "metadata": {},
   "source": [
    "#### Mutable Data Types"
   ]
  },
  {
   "cell_type": "markdown",
   "id": "a1bea66d",
   "metadata": {},
   "source": [
    "* Lists: list\n",
    "\n",
    "* Dictionaries: dict\n",
    "\n",
    "* Sets: set\n",
    "\n",
    "* Byte Arrays: bytearray"
   ]
  },
  {
   "cell_type": "markdown",
   "id": "b40de9e5",
   "metadata": {},
   "source": [
    "| **Aspect**          | **Mutable**                  | **Immutable**         |\n",
    "| ------------------- | ---------------------------- | --------------------- |\n",
    "| **Modification**    | Allowed                      | Not allowed           |\n",
    "| **Memory Behavior** | Modifies the existing object | Creates a new object  |\n",
    "| **Examples**        | `list`, `dict`, `set`        | `int`, `str`, `tuple` |\n"
   ]
  },
  {
   "cell_type": "markdown",
   "id": "90fabaea",
   "metadata": {},
   "source": [
    "# What are Python's built-in data structures?"
   ]
  },
  {
   "cell_type": "markdown",
   "id": "a7f5dcc4",
   "metadata": {},
   "source": [
    "| **Data Structure** | **Mutable** | **Allows Duplicates** | **Ordered** |\n",
    "| ------------------ | ----------- | --------------------- | ----------- |\n",
    "| **List**           | Yes         | Yes                   | Yes         |\n",
    "| **Tuple**          | No          | Yes                   | Yes         |\n",
    "| **Dictionary**     | Yes         | Keys: No, Values: Yes | No          |\n",
    "| **Set**            | Yes         | No                    | No          |\n",
    "| **Frozenset**      | No          | No                    | No          |\n",
    "| **String**         | No          | Yes                   | Yes         |\n"
   ]
  },
  {
   "cell_type": "code",
   "execution_count": 2,
   "id": "e55a6025",
   "metadata": {},
   "outputs": [],
   "source": [
    "my_frozenset = frozenset([1, 2, 3])"
   ]
  },
  {
   "cell_type": "markdown",
   "id": "ff1ff40e",
   "metadata": {},
   "source": [
    "# What is the use of self in Python classes?\n"
   ]
  },
  {
   "cell_type": "markdown",
   "id": "88cd6736",
   "metadata": {},
   "source": [
    "Python me self ek convention hai jo kisi class ke instance (object) ko refer karta hai. Ye class ke methods aur properties ko access karne aur manage karne ke liye use hota hai, har object ke liye alag-alag."
   ]
  },
  {
   "cell_type": "markdown",
   "id": "7b57ad62",
   "metadata": {},
   "source": [
    "1. Instance variables ko access karne ke liye.\n",
    "\n",
    "self ka use class ke andar variables (attributes) ko instance-specific banane ke liye hota hai."
   ]
  },
  {
   "cell_type": "code",
   "execution_count": null,
   "id": "665e4fe1",
   "metadata": {},
   "outputs": [],
   "source": [
    "class Person:\n",
    "    def __init__(self, name, age):\n",
    "        self.name = name  # Instance variable\n",
    "        self.age = age\n",
    "\n",
    "    def show_details(self):\n",
    "        print(f\"Name: {self.name}, Age: {self.age}\")\n",
    "\n",
    "person1 = Person(\"Ravi\", 25)\n",
    "person2 = Person(\"Anita\", 30)\n",
    "\n",
    "person1.show_details()  # Output: Name: Ravi, Age: 25\n",
    "person2.show_details()  # Output: Name: Anita, Age: 30\n"
   ]
  },
  {
   "cell_type": "markdown",
   "id": "77f47407",
   "metadata": {},
   "source": [
    "2. Methods ko call karne ke liye.\n",
    "\n",
    "Aap ek method se doosre method ko self ke through call kar sakte ho."
   ]
  },
  {
   "cell_type": "code",
   "execution_count": null,
   "id": "a539ed49",
   "metadata": {},
   "outputs": [],
   "source": [
    "class Calculator:\n",
    "    def add(self, a, b):\n",
    "        return a + b\n",
    "\n",
    "    def multiply(self, a, b):\n",
    "        return self.add(a, b) * 2  # add() method ko call kiya\n",
    "\n",
    "calc = Calculator()\n",
    "print(calc.multiply(3, 5))  # Output: 16\n"
   ]
  },
  {
   "cell_type": "markdown",
   "id": "76a6f595",
   "metadata": {},
   "source": [
    "Kyun zaroori hai self?\n",
    "\n",
    "* Python ko yeh batane ke liye ki kis object ke saath kaam ho raha hai.\n",
    "\n",
    "* Har object ki unique identity banaye rakhne ke liye.\n",
    "\n",
    "* Class ke andar instance variables aur methods ko access karne ka standard way hai.\n",
    "\n",
    "Important Notes:\n",
    "\n",
    "* self ek convention hai, iska naam kuch aur bhi ho sakta hai, lekin readability ke liye self use karna best practice hai.\n",
    "\n",
    "* Static methods aur class methods me self ki zarurat nahi hoti."
   ]
  },
  {
   "cell_type": "markdown",
   "id": "6400527d",
   "metadata": {},
   "source": [
    "# Write a function to count the number of vowels in a string.\n"
   ]
  },
  {
   "cell_type": "code",
   "execution_count": 3,
   "id": "9891ced7",
   "metadata": {},
   "outputs": [
    {
     "name": "stdout",
     "output_type": "stream",
     "text": [
      "Number of vowels: 10\n"
     ]
    }
   ],
   "source": [
    "def count_vowels(input_string):\n",
    "\n",
    "    vowels = \"aeiouAEIOU\"  # List of vowels (both lowercase and uppercase)\n",
    "    count = 0\n",
    "    for char in input_string:\n",
    "        if char in vowels:\n",
    "            count += 1\n",
    "    return count\n",
    "\n",
    "# Example usage\n",
    "example_string = \"Hello, how many vowels are there?\"\n",
    "print(f\"Number of vowels: {count_vowels(example_string)}\")"
   ]
  },
  {
   "cell_type": "markdown",
   "id": "ebe98d36",
   "metadata": {},
   "source": [
    "# Class, Instance and Object"
   ]
  },
  {
   "cell_type": "markdown",
   "id": "183e4271",
   "metadata": {},
   "source": [
    "1. Class\n",
    "\n",
    "Definition:\n",
    "\n",
    "* Class ek blueprint ya template hota hai jo objects banane ke liye use hota hai.\n",
    "* Isme attributes (data) aur methods (functions) define kiye jaate hain jo objects use karte hain.\n",
    "\n",
    "Key Point:\n",
    "\n",
    "* Class sirf ek idea ya definition hai, real-world entity nahi hai."
   ]
  },
  {
   "cell_type": "code",
   "execution_count": null,
   "id": "978a194f",
   "metadata": {},
   "outputs": [],
   "source": [
    "class Car:\n",
    "    def __init__(self, brand, color):\n",
    "        self.brand = brand\n",
    "        self.color = color\n",
    "\n",
    "# Yahaan Car ek class hai jo define karti hai ki cars ke paas brand aur color hoga.\n"
   ]
  },
  {
   "cell_type": "markdown",
   "id": "f4160c03",
   "metadata": {},
   "source": [
    "2. Object\n",
    "\n",
    "Definition:\n",
    "\n",
    "* Object ek real-world entity hai jo class ke template ke according banti hai.\n",
    "* Class ke attributes aur methods ka real implementation hota hai object.\n",
    "\n",
    "Key Point:\n",
    "\n",
    "* Objects ek class ke instance hote hain. Ek class se multiple objects ban sakte hain."
   ]
  },
  {
   "cell_type": "code",
   "execution_count": null,
   "id": "2094e0f0",
   "metadata": {},
   "outputs": [],
   "source": [
    "car1 = Car(\"Toyota\", \"Red\")  # Object 1\n",
    "car2 = Car(\"Honda\", \"Blue\")  # Object 2\n",
    "\n",
    "# Yahaan car1 aur car2 objects hain jo Car class ka real-world implementation hain."
   ]
  },
  {
   "cell_type": "markdown",
   "id": "6b12604f",
   "metadata": {},
   "source": [
    "3. Instance\n",
    "\n",
    "Definition:\n",
    "\n",
    "* Instance ek specific object hota hai jo kisi particular class ka hai. Object aur instance kaafi similar hain, lekin instance ka reference specific class ke saath hota hai.\n",
    "\n",
    "Key Point:\n",
    "\n",
    "* Instance ka matlab hota hai \"ye object kis class ka hai\". Har object ek instance hota hai, lekin instance word generally class ke context me use hota hai."
   ]
  },
  {
   "cell_type": "code",
   "execution_count": null,
   "id": "a6ed310f",
   "metadata": {},
   "outputs": [],
   "source": [
    "print(isinstance(car1, Car))  # Output: True\n",
    "\n",
    "# Yahaan car1 ek instance hai Car class ka."
   ]
  },
  {
   "cell_type": "markdown",
   "id": "c9b96d12",
   "metadata": {},
   "source": [
    "| **Aspect**     | **Class**                          | **Object**                                  | **Instance**                     |\n",
    "| -------------- | ---------------------------------- | ------------------------------------------- | -------------------------------- |\n",
    "| **Definition** | Blueprint ya template for objects. | Real-world implementation of class.         | Specific object of a class.      |\n",
    "| **Memory**     | Memory allocate nahi hoti.         | Memory allocate hoti hai.                   | Memory allocate hoti hai.        |\n",
    "| **Relation**   | Objects ko define karta hai.       | Ek class ke multiple objects ho sakte hain. | Har object ek instance hota hai. |\n",
    "| **Example**    | `Car`                              | `car1 = Car(\"Toyota\", \"Red\")`               | `car1` is an instance of `Car`.  |\n"
   ]
  },
  {
   "cell_type": "markdown",
   "id": "c6293253",
   "metadata": {},
   "source": [
    "# What is the difference between a list and a tuple?\n"
   ]
  },
  {
   "cell_type": "markdown",
   "id": "087d9a1b",
   "metadata": {},
   "source": [
    "| **Feature**      | **List**                      | **Tuple**                        |\n",
    "| ---------------- | ----------------------------- | -------------------------------- |\n",
    "| **Mutability**   | Mutable                       | Immutable                        |\n",
    "| **Syntax**       | Square brackets `[ ]`         | Parentheses `( )`                |\n",
    "| **Performance**  | Slower                        | Faster                           |\n",
    "| **Memory Usage** | More                          | Less                             |\n",
    "| **Functions**    | Many (e.g., `append`, `sort`) | Limited (e.g., `count`, `index`) |\n",
    "| **Use Case**     | Dynamic data                  | Fixed data                       |\n"
   ]
  },
  {
   "cell_type": "markdown",
   "id": "e43e7738",
   "metadata": {},
   "source": [
    "# How do you remove duplicates from a list?\n"
   ]
  },
  {
   "cell_type": "code",
   "execution_count": null,
   "id": "aead0e1b",
   "metadata": {},
   "outputs": [],
   "source": [
    "# List with duplicates\n",
    "my_list = [1, 2, 2, 3, 4, 4, 5]\n",
    "\n",
    "# Removing duplicates while preserving order\n",
    "unique_list = []\n",
    "for item in my_list:\n",
    "    if item not in unique_list:\n",
    "        unique_list.append(item)\n",
    "\n",
    "print(unique_list)  # Output: [1, 2, 3, 4, 5]\n"
   ]
  },
  {
   "cell_type": "code",
   "execution_count": null,
   "id": "27d98ae9",
   "metadata": {},
   "outputs": [],
   "source": [
    "# List with duplicates\n",
    "my_list = [1, 2, 2, 3, 4, 4, 5]\n",
    "\n",
    "# Removing duplicates\n",
    "unique_list = list(set(my_list))\n",
    "\n",
    "print(unique_list)  # Output: [1, 2, 3, 4, 5]\n"
   ]
  },
  {
   "cell_type": "markdown",
   "id": "2dca5d00",
   "metadata": {},
   "source": [
    "# Reverse a string in Python.\n"
   ]
  },
  {
   "cell_type": "code",
   "execution_count": null,
   "id": "ae6231a0",
   "metadata": {},
   "outputs": [],
   "source": [
    "# Original string\n",
    "my_string = \"Hello\"\n",
    "\n",
    "# Reversing the string\n",
    "reversed_string = my_string[::-1]\n",
    "\n",
    "print(reversed_string)  # Output: \"olleH\"\n"
   ]
  },
  {
   "cell_type": "code",
   "execution_count": null,
   "id": "dd1e5214",
   "metadata": {},
   "outputs": [],
   "source": [
    "# Original string\n",
    "my_string = \"Hello\"\n",
    "\n",
    "# Reversing the string using a loop\n",
    "reversed_string = \"\"\n",
    "for char in my_string:\n",
    "    reversed_string = char + reversed_string\n",
    "\n",
    "print(reversed_string)  # Output: \"olleH\"\n"
   ]
  },
  {
   "cell_type": "code",
   "execution_count": null,
   "id": "378ce3b8",
   "metadata": {},
   "outputs": [],
   "source": [
    "# Function to reverse a string (Using Recursive)\n",
    "def reverse_string(s):\n",
    "    if len(s) == 0:\n",
    "        return s\n",
    "    return reverse_string(s[1:]) + s[0]\n",
    "\n",
    "# Original string\n",
    "my_string = \"Hello\"\n",
    "\n",
    "# Reversing the string\n",
    "reversed_string = reverse_string(my_string)\n",
    "\n",
    "print(reversed_string)  # Output: \"olleH\"\n"
   ]
  },
  {
   "cell_type": "code",
   "execution_count": null,
   "id": "1234993e",
   "metadata": {},
   "outputs": [],
   "source": [
    "# Original string\n",
    "my_string = \"Hello\"\n",
    "\n",
    "# Reversing the string using reversed()\n",
    "reversed_string = ''.join(reversed(my_string))\n",
    "\n",
    "print(reversed_string)  # Output: \"olleH\"\n"
   ]
  },
  {
   "cell_type": "markdown",
   "id": "9df449f0",
   "metadata": {},
   "source": [
    "| **Method**          | **Simplicity** | **Performance**       | **Recommended Use Case**                 |\n",
    "| ------------------- | -------------- | --------------------- | ---------------------------------------- |\n",
    "| Slicing `[::-1]`    | Very simple    | Very fast             | Best for quick reversals                 |\n",
    "| Loop                | Moderate       | Slower                | If customization is required             |\n",
    "| `reversed()` + join | Simple         | Fast                  | When handling iterables or strings       |\n",
    "| Recursion           | Complex        | Slow (stack overhead) | For learning or conceptual understanding |\n"
   ]
  },
  {
   "cell_type": "markdown",
   "id": "06408a56",
   "metadata": {},
   "source": [
    "# Check if a number is a palindrome.\n"
   ]
  },
  {
   "cell_type": "code",
   "execution_count": null,
   "id": "5bbe5cc4",
   "metadata": {},
   "outputs": [],
   "source": [
    "def is_palindrome(num):\n",
    "    # Convert number to string\n",
    "    num_str = str(num)\n",
    "    # Check if the string is equal to its reverse\n",
    "    return num_str == num_str[::-1]\n",
    "\n",
    "# Test the function\n",
    "print(is_palindrome(121))  # Output: True\n",
    "print(is_palindrome(123))  # Output: False\n"
   ]
  },
  {
   "cell_type": "code",
   "execution_count": null,
   "id": "bc5b923e",
   "metadata": {},
   "outputs": [],
   "source": [
    "def is_palindrome(num):\n",
    "    # Negative numbers are not palindromes\n",
    "    if num < 0:\n",
    "        return False\n",
    "    \n",
    "    original = num\n",
    "    reversed_num = 0\n",
    "\n",
    "    # Reverse the number\n",
    "    while num > 0:\n",
    "        digit = num % 10  # Extract the last digit\n",
    "        reversed_num = reversed_num * 10 + digit  # Build the reversed number\n",
    "        num //= 10  # Remove the last digit\n",
    "    \n",
    "    # Check if original number is equal to reversed number\n",
    "    return original == reversed_num\n",
    "\n",
    "# Test the function\n",
    "print(is_palindrome(121))  # Output: True\n",
    "print(is_palindrome(-121))  # Output: False\n",
    "print(is_palindrome(123))  # Output: False\n"
   ]
  },
  {
   "cell_type": "code",
   "execution_count": null,
   "id": "9bbe723d",
   "metadata": {},
   "outputs": [],
   "source": [
    "def reverse_number(num, reversed_num=0):\n",
    "    if num == 0:\n",
    "        return reversed_num\n",
    "    return reverse_number(num // 10, reversed_num * 10 + num % 10)\n",
    "\n",
    "def is_palindrome(num):\n",
    "    if num < 0:\n",
    "        return False\n",
    "    return num == reverse_number(num)\n",
    "\n",
    "# Test the function\n",
    "print(is_palindrome(121))  # Output: True\n",
    "print(is_palindrome(123))  # Output: False\n"
   ]
  },
  {
   "cell_type": "markdown",
   "id": "59f9b223",
   "metadata": {},
   "source": [
    "| **Method**         | **Converts to String** | **Performance** | **Use Case**                 |\n",
    "| ------------------ | ---------------------- | --------------- | ---------------------------- |\n",
    "| Convert to String  | Yes                    | Fast            | Simple and quick solution    |\n",
    "| Without Conversion | No                     | Efficient       | For pure mathematical checks |\n",
    "| Using Recursion    | No                     | Slower          | For conceptual understanding |\n"
   ]
  },
  {
   "cell_type": "markdown",
   "id": "6f10a0c7",
   "metadata": {},
   "source": [
    "# Find the factorial of a number using recursion.\n"
   ]
  },
  {
   "cell_type": "code",
   "execution_count": null,
   "id": "44787560",
   "metadata": {},
   "outputs": [],
   "source": [
    "def factorial(n):\n",
    "    if n < 0:\n",
    "        return \"Factorial is not defined for negative numbers.\"\n",
    "    if n == 0:\n",
    "        return 1\n",
    "    return n * factorial(n - 1)\n"
   ]
  },
  {
   "cell_type": "markdown",
   "id": "fc304c51",
   "metadata": {},
   "source": [
    "# Find the second largest number in a list.\n"
   ]
  },
  {
   "cell_type": "code",
   "execution_count": null,
   "id": "81c43e1c",
   "metadata": {},
   "outputs": [],
   "source": [
    "def second_largest(numbers):\n",
    "    if len(numbers) < 2:\n",
    "        return \"Second largest does not exist.\"\n",
    "\n",
    "    largest = second = float('-inf')  # Initialize with negative infinity\n",
    "\n",
    "    for num in numbers:\n",
    "        if num > largest:\n",
    "            second = largest\n",
    "            largest = num\n",
    "        elif num > second and num != largest:\n",
    "            second = num\n",
    "\n",
    "    return second if second != float('-inf') else \"Second largest does not exist.\"\n",
    "\n",
    "# Test the function\n",
    "print(second_largest([4, 1, 3, 4, 2]))  # Output: 3\n",
    "print(second_largest([10, 10, 10]))     # Output: \"Second largest does not exist.\"\n"
   ]
  },
  {
   "cell_type": "code",
   "execution_count": null,
   "id": "e2c9421a",
   "metadata": {},
   "outputs": [],
   "source": [
    "def second_largest(numbers):\n",
    "    unique_numbers = list(set(numbers))  # Remove duplicates\n",
    "    if len(unique_numbers) < 2:\n",
    "        return \"Second largest does not exist.\"\n",
    "    unique_numbers.sort(reverse=True)  # Sort in descending order\n",
    "    return unique_numbers[1]  # Return the second largest element\n",
    "\n",
    "# Test the function\n",
    "print(second_largest([4, 1, 3, 4, 2]))  # Output: 3\n",
    "print(second_largest([10, 10, 10]))     # Output: \"Second largest does not exist.\"\n"
   ]
  },
  {
   "cell_type": "markdown",
   "id": "eab3ece4",
   "metadata": {},
   "source": [
    "# What does it mean for code to be “Pythonic”? Give an example.\n"
   ]
  },
  {
   "cell_type": "markdown",
   "id": "ea1fd6dc",
   "metadata": {},
   "source": [
    "\"Pythonic\" ka matlab hai Python ki idioms, conventions, aur best practices ka use karke code likhna jo readable, concise, aur elegant ho. Pythonic code Python language ke unique features ka maximum advantage uthata hai aur unnecessarily complex ya verbose nahi hota.\n",
    "\n",
    "* Clarity: Code samajhne aur maintain karne me easy ho.\n",
    "\n",
    "* Simplicity: Unnecessary complexity ko avoid karna.\n",
    "\n",
    "* Efficiency: Python ke built-in functions aur idioms ka use."
   ]
  },
  {
   "cell_type": "markdown",
   "id": "927895f9",
   "metadata": {},
   "source": [
    "The Zen of Python\n",
    "\n",
    "Pythonic code likhne ke liye, \"The Zen of Python\" ke kuch important principles yaad rakhein. (Run import this in Python to see them.)"
   ]
  },
  {
   "cell_type": "markdown",
   "id": "697bf777",
   "metadata": {},
   "source": [
    "Why Is Writing Pythonic Code Important?\n",
    "\n",
    "* Better Readability: Dusre developers code ko asaani se samajh sakte hain.\n",
    "\n",
    "* Maintainability: Code ko modify karna aur debug karna easy hota hai.\n",
    "\n",
    "* Performance: Python ke built-in functions aur idioms ka use karke code efficient hota hai.\n",
    "\n",
    "* Community Standards: Python developers Pythonic code likhne ki expectation rakhte hain, jo collaboration me helpful hota hai."
   ]
  },
  {
   "cell_type": "markdown",
   "id": "a38388f7",
   "metadata": {},
   "source": [
    "# What Are Lambda Functions?\n"
   ]
  },
  {
   "cell_type": "markdown",
   "id": "eb44d7a9",
   "metadata": {},
   "source": [
    "Lambda functions Python me anonymous (nameless) functions hain jo ek single expression ko define karte hain. Inhe inline functions bhi kaha jata hai, kyunki ye ek hi line me likhe jate hain aur kisi ek short-lived kaam ke liye use hote hain."
   ]
  },
  {
   "cell_type": "markdown",
   "id": "7ac67670",
   "metadata": {},
   "source": [
    "lambda: Keyword to define a lambda function.\n",
    "\n",
    "arguments: Input parameters (optional).\n",
    "\n",
    "expression: Ek single expression jo evaluate hota hai aur return karta hai."
   ]
  },
  {
   "cell_type": "code",
   "execution_count": null,
   "id": "3a202db0",
   "metadata": {},
   "outputs": [],
   "source": [
    "lambda arguments: expression"
   ]
  },
  {
   "cell_type": "markdown",
   "id": "2c6b6018",
   "metadata": {},
   "source": [
    "# Regular function\n",
    "def add(x, y):\n",
    "    return x + y\n",
    "\n",
    "# Lambda function\n",
    "add_lambda = lambda x, y: x + y\n",
    "\n",
    "print(add_lambda(3, 5))  # Output: 8"
   ]
  },
  {
   "cell_type": "code",
   "execution_count": null,
   "id": "edbfc8c9",
   "metadata": {},
   "outputs": [],
   "source": [
    "# Map()\n",
    "\n",
    "numbers = [1, 2, 3, 4]\n",
    "squares = list(map(lambda x: x ** 2, numbers))\n",
    "print(squares)  # Output: [1, 4, 9, 16]\n",
    "\n",
    "\n",
    "# Filter()\n",
    "\n",
    "numbers = [1, 2, 3, 4, 5, 6]\n",
    "even_numbers = list(filter(lambda x: x % 2 == 0, numbers))\n",
    "print(even_numbers)  # Output: [2, 4, 6]\n",
    "\n",
    "\n"
   ]
  },
  {
   "cell_type": "markdown",
   "id": "96279319",
   "metadata": {},
   "source": [
    "| Feature         | Lambda Function                 | Regular Function (`def`)   |\n",
    "| --------------- | ------------------------------- | -------------------------- |\n",
    "| **Syntax**      | `lambda x: x + 2`               | `def add(x): return x + 2` |\n",
    "| **Name**        | Nameless (anonymous)            | Requires a name            |\n",
    "| **Use Case**    | Short-lived, quick operations   | Complex, reusable logic    |\n",
    "| **Readability** | Less readable for complex logic | More readable and explicit |\n"
   ]
  },
  {
   "cell_type": "markdown",
   "id": "d6019084",
   "metadata": {},
   "source": [
    "# Explain list comprehensions and dictionary comprehensions with examples.\n"
   ]
  },
  {
   "cell_type": "markdown",
   "id": "9c40c176",
   "metadata": {},
   "source": [
    "#### List Comprehension"
   ]
  },
  {
   "cell_type": "code",
   "execution_count": null,
   "id": "a3d89989",
   "metadata": {},
   "outputs": [],
   "source": [
    "# Syntax\n",
    "\n",
    "[expression for item in iterable if condition]"
   ]
  },
  {
   "cell_type": "code",
   "execution_count": null,
   "id": "80dbbd25",
   "metadata": {},
   "outputs": [],
   "source": [
    "squares = [x**2 for x in range(5)]\n",
    "print(squares)  # Output: [0, 1, 4, 9, 16]"
   ]
  },
  {
   "cell_type": "code",
   "execution_count": null,
   "id": "a82f714b",
   "metadata": {},
   "outputs": [],
   "source": [
    "numbers = [1, 2, 3, 4, 5, 6]\n",
    "evens = [x for x in numbers if x % 2 == 0]\n",
    "print(evens)  # Output: [2, 4, 6]"
   ]
  },
  {
   "cell_type": "code",
   "execution_count": null,
   "id": "ee3e82ea",
   "metadata": {},
   "outputs": [],
   "source": [
    "numbers = [1, 2, 3, 4, 5, 6]\n",
    "evens = [x for x in numbers if x % 2 == 0]\n",
    "print(evens)  # Output: [2, 4, 6]"
   ]
  },
  {
   "cell_type": "markdown",
   "id": "14ae6e98",
   "metadata": {},
   "source": [
    "#### Dictionary Comprehension"
   ]
  },
  {
   "cell_type": "code",
   "execution_count": null,
   "id": "a79d5651",
   "metadata": {},
   "outputs": [],
   "source": [
    "# Syntax\n",
    "\n",
    "{key_expression: value_expression for item in iterable if condition}"
   ]
  },
  {
   "cell_type": "code",
   "execution_count": null,
   "id": "db3eb8a0",
   "metadata": {},
   "outputs": [],
   "source": [
    "squares_dict = {x: x**2 for x in range(5)}\n",
    "print(squares_dict)  # Output: {0: 0, 1: 1, 2: 4, 3: 9, 4: 16}"
   ]
  },
  {
   "cell_type": "code",
   "execution_count": null,
   "id": "b3cf4c7d",
   "metadata": {},
   "outputs": [],
   "source": [
    "numbers = [1, 2, 3, 4, 5]\n",
    "even_squares = {x: x**2 for x in numbers if x % 2 == 0}\n",
    "print(even_squares)  # Output: {2: 4, 4: 16}"
   ]
  },
  {
   "cell_type": "code",
   "execution_count": null,
   "id": "45c5fda3",
   "metadata": {},
   "outputs": [],
   "source": [
    "original = {'a': 1, 'b': 2, 'c': 3}\n",
    "reversed_dict = {v: k for k, v in original.items()}\n",
    "print(reversed_dict)  # Output: {1: 'a', 2: 'b', 3: 'c'}"
   ]
  },
  {
   "cell_type": "markdown",
   "id": "8762293d",
   "metadata": {},
   "source": [
    "| Feature            | List Comprehension         | Dictionary Comprehension      |\n",
    "| ------------------ | -------------------------- | ----------------------------- |\n",
    "| **Output Type**    | List                       | Dictionary                    |\n",
    "| **Syntax Example** | `[x**2 for x in range(5)]` | `{x: x**2 for x in range(5)}` |\n",
    "| **Use Cases**      | Sequential data            | Key-value mappings            |\n"
   ]
  },
  {
   "cell_type": "markdown",
   "id": "39181c58",
   "metadata": {},
   "source": [
    "# What are class methods and static methods?"
   ]
  },
  {
   "cell_type": "markdown",
   "id": "cb8b5bd0",
   "metadata": {},
   "source": [
    "#### Class Methods (@classmethod)\n",
    "\n",
    "Definition:\n",
    "\n",
    "* Class methods ko class ke context me kaam karne ke liye design kiya gaya hai, na ki kisi specific object (instance) ke liye.\n",
    "\n",
    "* Ye class-level variables ko access kar sakte hain aur modify kar sakte hain.\n",
    "\n",
    "* Class methods me cls argument hota hai, jo class ko represent karta hai (similar to self for instance methods).\n",
    "\n",
    "Kaise Banate Hain?\n",
    "\n",
    "@classmethod decorator ka use karke define kiya jata hai."
   ]
  },
  {
   "cell_type": "code",
   "execution_count": null,
   "id": "7f1f776e",
   "metadata": {},
   "outputs": [],
   "source": [
    "class MyClass:\n",
    "    class_variable = 0  # Class-level variable\n",
    "\n",
    "    @classmethod\n",
    "    def set_class_variable(cls, value):\n",
    "        cls.class_variable = value  # Modify class-level variable\n",
    "\n",
    "    @classmethod\n",
    "    def get_class_variable(cls):\n",
    "        return cls.class_variable  # Access class-level variable\n",
    "\n",
    "# Test class method\n",
    "MyClass.set_class_variable(10)\n",
    "print(MyClass.get_class_variable())  # Output: 10\n"
   ]
  },
  {
   "cell_type": "code",
   "execution_count": null,
   "id": "1d6b41da",
   "metadata": {},
   "outputs": [],
   "source": [
    "class Person:\n",
    "    def __init__(self, name, age):\n",
    "        self.name = name\n",
    "        self.age = age\n",
    "\n",
    "    @classmethod\n",
    "    def from_birth_year(cls, name, birth_year):\n",
    "        return cls(name, 2023 - birth_year)\n",
    "\n",
    "# Create a Person object using a class method\n",
    "person = Person.from_birth_year(\"Alice\", 1995)\n",
    "print(person.name, person.age)  # Output: Alice 28\n"
   ]
  },
  {
   "cell_type": "markdown",
   "id": "36abfd79",
   "metadata": {},
   "source": [
    "#### Static Methods (@staticmethod)\n",
    "\n",
    "Definition:\n",
    "\n",
    "* Static methods ko class ya instance ke context ki zarurat nahi hoti.\n",
    "\n",
    "* Ye utility functions ki tarah kaam karte hain, jo class ke andar logically belong karte hain.\n",
    "\n",
    "* Inme self ya cls argument nahi hota.\n",
    "\n",
    "Kaise Banate Hain?\n",
    "\n",
    "* @staticmethod decorator ka use karke define kiya jata hai."
   ]
  },
  {
   "cell_type": "code",
   "execution_count": null,
   "id": "7e67403b",
   "metadata": {},
   "outputs": [],
   "source": [
    "class Calculator:\n",
    "    @staticmethod\n",
    "    def add(a, b):\n",
    "        return a + b\n",
    "\n",
    "    @staticmethod\n",
    "    def multiply(a, b):\n",
    "        return a * b\n",
    "\n",
    "# Test static methods\n",
    "print(Calculator.add(5, 3))       # Output: 8\n",
    "print(Calculator.multiply(5, 3))  # Output: 15\n"
   ]
  },
  {
   "cell_type": "markdown",
   "id": "40968c83",
   "metadata": {},
   "source": [
    "| **Feature**              | **Class Method**                      | **Static Method**                    |\n",
    "| ------------------------ | ------------------------------------- | ------------------------------------ |\n",
    "| **Decorator**            | `@classmethod`                        | `@staticmethod`                      |\n",
    "| **Takes `cls/self`?**    | Takes `cls` as first argument         | Does not take `self` or `cls`        |\n",
    "| **Access to Class Data** | Can access and modify class variables | Cannot access class or instance data |\n",
    "| **Use Case**             | Operates on class-level data          | General utility or helper functions  |\n"
   ]
  },
  {
   "cell_type": "markdown",
   "id": "2d093806",
   "metadata": {},
   "source": [
    "##### Class Method:\n",
    "\n",
    "* @classmethod decorator use hota hai.\n",
    "\n",
    "* cls argument leta hai, jo class ko represent karta hai.\n",
    "\n",
    "* Class-level data ko access aur modify karne ke liye use hota hai.\n",
    "\n",
    "##### Static Method:\n",
    "\n",
    "* @staticmethod decorator use hota hai.\n",
    "\n",
    "* Class ya instance ke context ki zarurat nahi hoti.\n",
    "\n",
    "* Utility functions ke liye use hota hai."
   ]
  },
  {
   "cell_type": "markdown",
   "id": "04cb4cef",
   "metadata": {},
   "source": [
    "# ____init____.py File in Python Kya Hota Hai?\n"
   ]
  },
  {
   "cell_type": "markdown",
   "id": "79e2ee61",
   "metadata": {},
   "source": [
    "__init__.py ek special file hai jo Python me ek directory ko package banata hai. Is file ki wajah se Python samajhta hai ki jis folder me ye file hai, usse ek package ki tarah treat karna chahiye."
   ]
  },
  {
   "cell_type": "markdown",
   "id": "55ae3254",
   "metadata": {},
   "source": [
    "#### Purpose of __init__.py\n",
    "\n",
    "1. Package Ko Identify Karna:\n",
    "\n",
    "* Jab ek folder me __init__.py file hoti hai, to Python interpreter us folder ko ek package ke roop me recognize karta hai.\n",
    "\n",
    "* Python 3.3 ke baad __init__.py file mandatory nahi hai, par isse best practice ke roop me rakha jata hai.\n",
    "\n",
    "2. Package Initialization:\n",
    "\n",
    "* Jab aap ek package ko import karte ho, __init__.py file automatically execute hoti hai.\n",
    "\n",
    "* Ye file package ke initialization tasks ko handle kar sakti hai (e.g., dependencies load karna, variables define karna).\n",
    "\n",
    "3. Module Import Simplify Karna:\n",
    "\n",
    "* __init__.py ka use karke aap package ke andar modules aur sub-packages ko import aur organize kar sakte ho."
   ]
  },
  {
   "cell_type": "markdown",
   "id": "be433772",
   "metadata": {},
   "source": [
    "##### Key Points\n",
    "\n",
    "* Python 3.3 se pehle: __init__.py file har package me hona zaroori tha.\n",
    "* \n",
    "* Python 3.3 ke baad: Ye optional ho gaya, par still best practice hai.\n",
    "* \n",
    "* Initialization Tasks: Dependencies load karna, configuration set karna.\n",
    "* \n",
    "* Simplifies Imports: Modular structure maintain karne me madad karta hai."
   ]
  },
  {
   "cell_type": "markdown",
   "id": "ad00a956",
   "metadata": {},
   "source": [
    "# What is the difference between an iterator and an iterable?"
   ]
  },
  {
   "cell_type": "markdown",
   "id": "03e46081",
   "metadata": {},
   "source": [
    "\n",
    "Python me iterator aur iterable donon ek tarike se data ko traverse karne ke concepts hain. Ye loops aur sequential data processing ke liye kaafi useful hote hain. In dono ke beech farq samajhne ke liye niche ka explanation dekhein:"
   ]
  },
  {
   "cell_type": "markdown",
   "id": "2558dae2",
   "metadata": {},
   "source": [
    "### Iterable\n",
    "\n",
    "Definition:\n",
    "\n",
    "* Iterable ek aisa object hota hai jo elements ka collection hota hai (jaise list, tuple, string, etc.) aur jisko hum ek-ek karke traverse kar sakte hain.\n",
    "\n",
    "* Ye __iter__() method implement karta hai, jo ek iterator object return karta hai."
   ]
  },
  {
   "cell_type": "code",
   "execution_count": null,
   "id": "8b4683e0",
   "metadata": {},
   "outputs": [],
   "source": [
    "# Examples of iterable objects\n",
    "my_list = [1, 2, 3]       # List\n",
    "my_string = \"hello\"       # String\n",
    "my_tuple = (4, 5, 6)      # Tuple"
   ]
  },
  {
   "cell_type": "markdown",
   "id": "8293c3df",
   "metadata": {},
   "source": [
    "for item in my_list:\n",
    "    print(item)\n",
    "# Output:\n",
    "# 1\n",
    "# 2\n",
    "# 3"
   ]
  },
  {
   "cell_type": "markdown",
   "id": "c6a585bf",
   "metadata": {},
   "source": [
    "### Iterator\n",
    "\n",
    "Definition:\n",
    "\n",
    "* Iterator ek aisa object hota hai jo ek iterable se create hota hai aur __next__() method ko implement karta hai.\n",
    "\n",
    "* Ye ek stateful object hota hai jo iterable ke elements ko ek-ek karke traverse karta hai.\n",
    "\n",
    "Characteristics:\n",
    "\n",
    "* Iterator object __iter__() aur __next__() methods ko implement karta hai.\n",
    "\n",
    "* Jab __next__() method call hota hai, to iterator next element return karta hai.\n",
    "\n",
    "* Jab elements khatam ho jate hain, StopIteration exception raise hoti hai."
   ]
  },
  {
   "cell_type": "markdown",
   "id": "02a7f954",
   "metadata": {},
   "source": [
    "##### Creating an Iterator\n",
    "\n",
    "Using iter():\n",
    "\n",
    "Iterable ko iterator me convert karne ke liye hum iter() function ka use karte hain."
   ]
  },
  {
   "cell_type": "code",
   "execution_count": null,
   "id": "edaa1443",
   "metadata": {},
   "outputs": [],
   "source": [
    "my_list = [1, 2, 3]\n",
    "my_iterator = iter(my_list)\n",
    "\n",
    "print(next(my_iterator))  # Output: 1\n",
    "print(next(my_iterator))  # Output: 2\n",
    "print(next(my_iterator))  # Output: 3\n",
    "# StopIteration error if called again"
   ]
  },
  {
   "cell_type": "markdown",
   "id": "6c3f6a4d",
   "metadata": {},
   "source": [
    "| **Feature**           | **Iterable**                         | **Iterator**                          |\n",
    "| --------------------- | ------------------------------------ | ------------------------------------- |\n",
    "| **Definition**        | Collection of elements               | Object to traverse elements           |\n",
    "| **Implements**        | `__iter__()` method                  | `__iter__()` and `__next__()` methods |\n",
    "| **Examples**          | Lists, Tuples, Strings, Dictionaries | Object returned by `iter()` function  |\n",
    "| **Use in Loops**      | Directly usable in loops             | Requires manual `next()` call         |\n",
    "| **State Maintenance** | No                                   | Yes                                   |\n"
   ]
  },
  {
   "cell_type": "markdown",
   "id": "05a68b8e",
   "metadata": {},
   "source": [
    "### Summary\n",
    "\n",
    "#### Iterable:\n",
    "\n",
    "* Aise objects jo traversable hain, jaise list, string, tuple.\n",
    "\n",
    "* Inke paas __iter__() method hota hai jo ek iterator return karta hai.\n",
    "\n",
    "* for loop ke liye directly use karte hain.\n",
    "\n",
    "#### Iterator:\n",
    "\n",
    "* Ye iterable se bana hua object hai jo sequentially elements ko traverse karta hai.\n",
    "\n",
    "* Inke paas __iter__() aur __next__() methods hote hain.\n",
    "\n",
    "* next() function se ek element return karta hai, jab tak StopIteration raise na ho."
   ]
  },
  {
   "cell_type": "markdown",
   "id": "b49104d3",
   "metadata": {},
   "source": [
    "# What is the difference between __str__() and __repr__()?\n"
   ]
  },
  {
   "cell_type": "markdown",
   "id": "74cf35c2",
   "metadata": {},
   "source": [
    "Python me __str__() aur __repr__() dono special methods hain jo kisi object ko string ke form me represent karte hain. Inka main purpose ek object ka human-readable ya developer-readable representation provide karna hota hai."
   ]
  },
  {
   "cell_type": "markdown",
   "id": "8368f767",
   "metadata": {},
   "source": [
    "### 1. __str__()\n",
    "\n",
    "Purpose:\n",
    "\n",
    "* __str__() ka use hota hai ek object ka human-friendly representation dene ke liye.\n",
    "\n",
    "* Ye method tab call hota hai jab aap print(object) ya str(object) call karte ho.\n",
    "\n",
    "Focus:\n",
    "\n",
    "* Readable aur user-friendly information dena."
   ]
  },
  {
   "cell_type": "code",
   "execution_count": null,
   "id": "836ac6ee",
   "metadata": {},
   "outputs": [],
   "source": [
    "class Person:\n",
    "    def __init__(self, name, age):\n",
    "        self.name = name\n",
    "        self.age = age\n",
    "\n",
    "    def __str__(self):\n",
    "        return f\"Person(name={self.name}, age={self.age})\"\n",
    "\n",
    "person = Person(\"Alice\", 30)\n",
    "print(person)  # Output: Person(name=Alice, age=30)\n"
   ]
  },
  {
   "cell_type": "markdown",
   "id": "ac1f5599",
   "metadata": {},
   "source": [
    "### 2. __repr__()\n",
    "\n",
    "Purpose:\n",
    "\n",
    "* __repr__() ka use hota hai ek object ka developer-friendly representation dene ke liye.\n",
    "\n",
    "* Ye method tab call hota hai jab aap repr(object) ya interactive Python shell me object ko directly print karte ho.\n",
    "\n",
    "* Ye representation ideally aise hona chahiye ki object ko reconstruct karne ke liye use ho sake.\n",
    "\n",
    "Focus:\n",
    "\n",
    "* Debugging aur development ke liye detailed information dena."
   ]
  },
  {
   "cell_type": "code",
   "execution_count": null,
   "id": "3989949e",
   "metadata": {},
   "outputs": [],
   "source": [
    "class Person:\n",
    "    def __init__(self, name, age):\n",
    "        self.name = name\n",
    "        self.age = age\n",
    "\n",
    "    def __repr__(self):\n",
    "        return f\"Person('{self.name}', {self.age})\"\n",
    "\n",
    "person = Person(\"Alice\", 30)\n",
    "print(repr(person))  # Output: Person('Alice', 30)\n"
   ]
  },
  {
   "cell_type": "markdown",
   "id": "f5fcab61",
   "metadata": {},
   "source": [
    "| **Feature**      | **`__str__()`**                                  | **`__repr__()`**                                                  |\n",
    "| ---------------- | ------------------------------------------------ | ----------------------------------------------------------------- |\n",
    "| **Purpose**      | User-friendly string representation              | Developer-friendly string representation                          |\n",
    "| **Used For**     | `print()` or `str()`                             | `repr()` or interactive shell                                     |\n",
    "| **Focus**        | Readability for end-users                        | Debugging and object reconstruction                               |\n",
    "| **Fallback**     | If `__str__()` is not defined, uses `__repr__()` | If `__repr__()` is not defined, defaults to object memory address |\n",
    "| **Output Style** | Simplified and user-oriented                     | Technical and detailed                                            |\n"
   ]
  },
  {
   "cell_type": "markdown",
   "id": "8394ad73",
   "metadata": {},
   "source": [
    "#### When to Use Which?\n",
    "\n",
    "##### __str__():\n",
    "\n",
    "* Jab aapko end-user ke liye output banana ho.\n",
    "\n",
    "* Simple aur readable representation dena ho.\n",
    "\n",
    "##### __repr__():\n",
    "\n",
    "* Jab aapko object ka debugging aur development ke liye detailed output banana ho.\n",
    "\n",
    "* Object ko reconstruct karne ke liye ek valid Python expression chahiye ho."
   ]
  },
  {
   "cell_type": "markdown",
   "id": "13d7907d",
   "metadata": {},
   "source": [
    "# Explain the concept of Python’s memory management.\n"
   ]
  },
  {
   "cell_type": "markdown",
   "id": "508b371f",
   "metadata": {},
   "source": [
    "Python ka memory management ek automatic process hai jo aapke program ke liye memory allocate aur deallocate karta hai. Ye process Python interpreter ke Memory Manager aur Garbage Collector ke through hota hai. Iska main purpose efficient memory usage ensure karna aur unused memory ko free karna hai."
   ]
  },
  {
   "cell_type": "markdown",
   "id": "f378324c",
   "metadata": {},
   "source": [
    "### Python Objects and Memory Allocation\n",
    "\n",
    "* Python me sab kuch ek object hai (numbers, strings, functions, etc.).\n",
    "\n",
    "* Jab aap ek variable banate ho, Python uske liye memory allocate karta hai.\n",
    "\n",
    "* Memory allocation ka kaam Python ke private heap me hota hai.\n",
    "\n"
   ]
  },
  {
   "cell_type": "code",
   "execution_count": null,
   "id": "17d31176",
   "metadata": {},
   "outputs": [],
   "source": [
    "x = 10  # Python heap me ek object banega jo `10` store karega.\n",
    "y = \"Hello\"  # Ek string object banega jo \"Hello\" store karega."
   ]
  },
  {
   "cell_type": "markdown",
   "id": "8edc8ba2",
   "metadata": {},
   "source": [
    "### Private Heap\n",
    "\n",
    "* Private Heap wo jagah hai jahan Python saare objects aur variables ki memory store karta hai.\n",
    "\n",
    "* Is heap ka access directly programmer ke paas nahi hota.\n",
    "\n",
    "* Python ke Memory Manager heap ko manage karta hai."
   ]
  },
  {
   "cell_type": "markdown",
   "id": "d9701d0c",
   "metadata": {},
   "source": [
    "### Reference Counting\n",
    "\n",
    "* Python me har object ke paas ek reference count hota hai, jo batata hai ki kitne variables ya objects usse refer kar rahe hain.\n",
    "\n",
    "* Jab reference count 0 ho jata hai (matlab object ko koi refer nahi kar raha), to wo memory automatically free ho jati hai."
   ]
  },
  {
   "cell_type": "code",
   "execution_count": null,
   "id": "560f538c",
   "metadata": {},
   "outputs": [],
   "source": [
    "x = 10  # Reference count of object `10` is 1.\n",
    "y = x   # Reference count of `10` increases to 2.\n",
    "del x   # Reference count of `10` decreases to 1.\n",
    "del y   # Reference count of `10` becomes 0, memory is freed."
   ]
  },
  {
   "cell_type": "markdown",
   "id": "7bbbb858",
   "metadata": {},
   "source": [
    "### Garbage Collection\n",
    "\n",
    "* Python me ek Garbage Collector (GC) hota hai jo unused objects ki memory free karta hai.\n",
    "\n",
    "* GC circular references ko bhi handle karta hai (jaha do objects ek dusre ko refer karte hain, par koi unhe refer nahi kar raha)."
   ]
  },
  {
   "cell_type": "code",
   "execution_count": null,
   "id": "db6dd256",
   "metadata": {},
   "outputs": [],
   "source": [
    "class Node:\n",
    "    def __init__(self):\n",
    "        self.ref = None\n",
    "\n",
    "# Create circular reference\n",
    "a = Node()\n",
    "b = Node()\n",
    "a.ref = b\n",
    "b.ref = a\n",
    "\n",
    "# Even if you delete `a` and `b`, their references to each other cause a memory leak.\n",
    "# Garbage collector handles this situation in Python.\n",
    "del a\n",
    "del b\n"
   ]
  },
  {
   "cell_type": "markdown",
   "id": "ad05fc16",
   "metadata": {},
   "source": [
    "# Explain method overriding and method overloading.\n"
   ]
  },
  {
   "cell_type": "markdown",
   "id": "507c7464",
   "metadata": {},
   "source": [
    "###  Method Overriding\n",
    "\n",
    "Method overriding tab hota hai jab ek child class apne parent class ke method ko redefine karti hai, taki wahi method child class ke context me alag behavior dikhaye.\n",
    "\n",
    "#### Key Points:\n",
    "\n",
    "1. Same Name, Same Parameters:\n",
    "\n",
    "* Method overriding me parent aur child class ke methods ka naam aur parameters same hote hain.\n",
    "\n",
    "2. Inheritance:\n",
    "\n",
    "* Ye inheritance ka concept use karta hai.\n",
    "\n",
    "3. Dynamic Dispatch:\n",
    "\n",
    "* Jab object ko call kiya jata hai, to Python runtime pe decide karta hai ki child class ka method use karna hai ya parent class ka."
   ]
  },
  {
   "cell_type": "code",
   "execution_count": null,
   "id": "908c64d7",
   "metadata": {},
   "outputs": [],
   "source": [
    "class Parent:\n",
    "    def greet(self):\n",
    "        return \"Hello from Parent!\"\n",
    "\n",
    "class Child(Parent):\n",
    "    def greet(self):  # Overriding parent method\n",
    "        return \"Hello from Child!\"\n",
    "\n",
    "# Create objects\n",
    "parent_obj = Parent()\n",
    "child_obj = Child()\n",
    "\n",
    "print(parent_obj.greet())  # Output: Hello from Parent!\n",
    "print(child_obj.greet())   # Output: Hello from Child!\n"
   ]
  },
  {
   "cell_type": "markdown",
   "id": "3fb16f5a",
   "metadata": {},
   "source": [
    "### Method Overloading\n",
    "\n",
    "Python me strict method overloading ka concept nahi hai jaise C++ ya Java me hota hai. Python me same method ko different number of arguments ke sath implement karna loosely method overloading kehlata hai.\n",
    "\n",
    "Python me default arguments ya *args aur **kwargs ka use karke method overloading ko achieve karte hain.\n",
    "\n",
    "##### Key Points:\n",
    "\n",
    "1. Same Name, Different Parameters:\n",
    "\n",
    "* Method overloading me ek hi method ka naam same hota hai, par parameters alag-alag hote hain (count ya type ke hisaab se).\n",
    "\n",
    "2. No True Overloading in Python:\n",
    "\n",
    "* Python me ek hi naam ka multiple methods define nahi kar sakte. Last defined method hi active rahega.\n",
    "\n",
    "3. Achieved via Default/Variable Arguments:\n",
    "\n",
    "* Default arguments aur variable arguments (*args, **kwargs) ka use karke overloading ko achieve karte hain."
   ]
  },
  {
   "cell_type": "code",
   "execution_count": null,
   "id": "abfe6012",
   "metadata": {},
   "outputs": [],
   "source": [
    "# Example of Method Overloading (Using Default Arguments):\n",
    "\n",
    "class Calculator:\n",
    "    def add(self, a, b=0, c=0):  # Default arguments\n",
    "        return a + b + c\n",
    "\n",
    "calc = Calculator()\n",
    "print(calc.add(5))        # Output: 5\n",
    "print(calc.add(5, 10))    # Output: 15\n",
    "print(calc.add(5, 10, 15))  # Output: 30\n"
   ]
  },
  {
   "cell_type": "code",
   "execution_count": null,
   "id": "96f63e62",
   "metadata": {},
   "outputs": [],
   "source": [
    "# Example of Method Overloading (Using *args):\n",
    "\n",
    "class Calculator:\n",
    "    def add(self, *args):  # Accepts any number of arguments\n",
    "        return sum(args)\n",
    "\n",
    "calc = Calculator()\n",
    "print(calc.add(5))           # Output: 5\n",
    "print(calc.add(5, 10))       # Output: 15\n",
    "print(calc.add(5, 10, 15))   # Output: 30"
   ]
  },
  {
   "cell_type": "markdown",
   "id": "08d60f24",
   "metadata": {},
   "source": [
    "| **Feature**        | **Method Overriding**                                   | **Method Overloading**                                     |\n",
    "| ------------------ | ------------------------------------------------------- | ---------------------------------------------------------- |\n",
    "| **Definition**     | Child class me parent class ke method ko redefine karna | Same method name ke sath different parameters define karna |\n",
    "| **Inheritance**    | Inheritance required                                    | Inheritance not required                                   |\n",
    "| **Parameters**     | Parameters same hote hain                               | Parameters different hote hain                             |\n",
    "| **Behavior**       | Child class method ka behavior use hota hai             | Method arguments ke basis pe behavior change hota hai      |\n",
    "| **Python Support** | Fully supported                                         | True method overloading nahi, par achieve kar sakte hain   |\n"
   ]
  },
  {
   "cell_type": "markdown",
   "id": "4d46c681",
   "metadata": {},
   "source": [
    "#### Summary "
   ]
  },
  {
   "cell_type": "markdown",
   "id": "5bba38b4",
   "metadata": {},
   "source": [
    "#### Method Overriding:\n",
    "\n",
    "* Jab child class parent class ke method ko same naam aur parameters ke sath redefine karti hai.\n",
    "\n",
    "* Inheritance ka use hota hai.\n",
    "\n",
    "* Dynamic dispatch se decide hota hai ki parent ya child method ka call hoga"
   ]
  },
  {
   "cell_type": "code",
   "execution_count": null,
   "id": "f89fed3d",
   "metadata": {},
   "outputs": [],
   "source": [
    "class Parent:\n",
    "    def show(self):\n",
    "        print(\"Parent method\")\n",
    "\n",
    "class Child(Parent):\n",
    "    def show(self):  # Overriding\n",
    "        print(\"Child method\")"
   ]
  },
  {
   "cell_type": "markdown",
   "id": "721b30c0",
   "metadata": {},
   "source": [
    "### Method Overloading:\n",
    "\n",
    "* Jab ek hi method ko different parameters ke sath define karte hain.\n",
    "\n",
    "* Python me default arguments ya *args ka use karke achieve karte hain.\n",
    "\n",
    "* Inheritance ki zarurat nahi hoti."
   ]
  },
  {
   "cell_type": "code",
   "execution_count": null,
   "id": "fb9f2fe0",
   "metadata": {},
   "outputs": [],
   "source": [
    "class Example:\n",
    "    def display(self, a, b=0):\n",
    "        print(a + b)"
   ]
  }
 ],
 "metadata": {
  "kernelspec": {
   "display_name": "Python 3",
   "language": "python",
   "name": "python3"
  },
  "language_info": {
   "codemirror_mode": {
    "name": "ipython",
    "version": 3
   },
   "file_extension": ".py",
   "mimetype": "text/x-python",
   "name": "python",
   "nbconvert_exporter": "python",
   "pygments_lexer": "ipython3",
   "version": "3.12.6"
  }
 },
 "nbformat": 4,
 "nbformat_minor": 5
}
