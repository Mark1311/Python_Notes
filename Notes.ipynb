{
 "cells": [
  {
   "cell_type": "markdown",
   "id": "8dc50d9e-335f-48da-b6d0-63ac33618b73",
   "metadata": {},
   "source": [
    "#                                                       PYTHON QUESTION'S"
   ]
  },
  {
   "cell_type": "markdown",
   "id": "c99a7b11-69ea-4d5e-8416-fc48c0d6f643",
   "metadata": {},
   "source": [
    "# Doc.String in Python"
   ]
  },
  {
   "cell_type": "markdown",
   "id": "46ae3ad9-0158-4522-98b2-8074183d542d",
   "metadata": {},
   "source": [
    "Python mein docstring ek special type ki string hoti hai jo kisi function, class, ya module ke baare mein information provide karti hai. Yeh us function ya class ka purpose, parameters, aur return value ko describe karti hai. or ye always class ya function ke just niche likhi jati ha.\n",
    "\n",
    "Docstring hamesha triple quotes (''' ya \"\"\") ke andar likhi jaati hai."
   ]
  },
  {
   "cell_type": "markdown",
   "id": "3e26eb9b-4e2a-418a-b2b6-78bee5fdb932",
   "metadata": {},
   "source": [
    "### Docstring ka use kyun karte hain?"
   ]
  },
  {
   "cell_type": "markdown",
   "id": "132465f8-7251-47a4-a55e-a08f450fb419",
   "metadata": {},
   "source": [
    "1. Code ko samajhna aasaan banaana: Jab koi aur developer aapka code padhe, toh wo easily samajh sakta hai ki function kya karta hai \n",
    "aur kaise use kiya jaa sakta hai.\n",
    "\n",
    "2.Docstring ek zaroori tareeka hai jo aapke code ko clean aur understandable banata hai. Isse code ki readability improve hoti\n",
    "hai aur dusre developers ko aapka code samajhne mein aasani hoti hai."
   ]
  },
  {
   "cell_type": "code",
   "execution_count": null,
   "id": "6c723087-bd51-4401-afaf-99017e8715cd",
   "metadata": {},
   "outputs": [],
   "source": [
    "def add(a, b):\n",
    "    \"\"\"\n",
    "    Yeh function do numbers ka sum karta hai.\n",
    "    Parameters:\n",
    "    a (int): Pehla number\n",
    "    b (int): Dusra number\n",
    "    Returns:\n",
    "    int: Do numbers ka sum\n",
    "    \"\"\"\n",
    "    return a + b\n"
   ]
  },
  {
   "cell_type": "markdown",
   "id": "d454084d-ea3f-4e09-b3f2-b52e811c901e",
   "metadata": {},
   "source": [
    "# Enumerate() Function"
   ]
  },
  {
   "cell_type": "markdown",
   "id": "3f2a83d5-7036-4cbb-8143-f0980c607b39",
   "metadata": {},
   "source": [
    "Enumerator function ek aisi function hoti hai jo kisi collection ya sequence (jaise list, tuple, string, ya kisi iterable object) \n",
    "ke elements ke index aur values ko return karti hai. Ye function generally enumerate() ke naam se jaana jaata hai.\n",
    "\n",
    "enumerate() function ko kisi iterable object (like a list or string) ke saath use kiya jaata hai, aur yeh us iterable ke har \n",
    "element ke index aur value dono ko ek tuple ke form mein return karta hai.\n",
    "\n",
    "Iska fayda yeh hai ki aapko index aur element ko separately handle karne ki zaroorat nahi padti."
   ]
  },
  {
   "cell_type": "code",
   "execution_count": null,
   "id": "ad2a261b-1f8d-41d7-be5e-f8a3f59adffb",
   "metadata": {},
   "outputs": [],
   "source": [
    "fruits = ['apple', 'banana', 'cherry']\n",
    "\n",
    "# enumerate ko use karke index aur value dono ko print karte hain\n",
    "for index, fruit in enumerate(fruits):\n",
    "    print(index, fruit)\n",
    "\n",
    "#Output here\n",
    "# 0 apple\n",
    "# 1 banana\n",
    "# 2 cherry"
   ]
  },
  {
   "cell_type": "markdown",
   "id": "888d4e7f-1835-4eaf-9842-0efba226cce6",
   "metadata": {},
   "source": [
    "### Use case:\n",
    "Agar aap kisi list ke elements par kuch operations perform kar rahe ho aur uske index ko bhi zaroorat ho, to enumerate() kaafi helpful hai.\n",
    "\n",
    "Jaise agar aapko ek list mein specific index par kuch update karna ho ya index ke basis pe kuch conditions check karna ho, to enumerate() \n",
    "use kar sakte hain.\n",
    "\n",
    "Readability ko improve karta hai:"
   ]
  },
  {
   "cell_type": "markdown",
   "id": "251886fd-3186-4c4e-bbda-80b63cdb1597",
   "metadata": {},
   "source": [
    "# Difference between Shallow and Deep copy"
   ]
  },
  {
   "cell_type": "markdown",
   "id": "779253f2-dcd3-4dab-bab3-22dc36062a66",
   "metadata": {},
   "source": [
    "### Shallow Copy"
   ]
  },
  {
   "cell_type": "markdown",
   "id": "36654a5f-444a-427a-9659-23312a567468",
   "metadata": {},
   "source": [
    "Shallow copy nested list ko copy karta hai, lekin deeply copy nahi karta. Matlab, agar aap ek nested list ka shallow copy banate hain,\n",
    "toh outer list ki copy ban jaati hai, lekin inner lists ya sublists ke references hi copy hote hain, unki actual copies nahi ban paati.\n",
    "\n",
    "Iska matlab yeh hai ki agar aap shallow copy ko modify karte hain (especially inner lists ko), toh original list bhi uss change \n",
    "ko reflect karegi, kyunki inner lists ab bhi same memory location ka reference rakhte hain."
   ]
  },
  {
   "cell_type": "code",
   "execution_count": null,
   "id": "58d3bae2-83fe-497c-aa8e-869a8ff152a2",
   "metadata": {},
   "outputs": [],
   "source": [
    "# Original nested list\n",
    "original_list = [[1, 2, 3], [4, 5, 6],8]\n",
    "\n",
    "# Shallow copy of the original list\n",
    "shallow_copy = copy.copy(original_list)\n",
    "\n",
    "# Modifying the inner list of the shallow copy\n",
    "shallow_copy[0][0] = 100\n",
    "\n",
    "shallow_copy[2] = 1000\n",
    "\n",
    "# Output\n",
    "print(\"Original List:\", original_list)  # Original list will also show the change\n",
    "print(\"Shallow Copy:\", shallow_copy)    # Shallow copy will show the change as well\n"
   ]
  },
  {
   "cell_type": "markdown",
   "id": "f1b4ef0f-6137-4109-82ec-bf3b423aee23",
   "metadata": {},
   "source": [
    "### Deep Copy"
   ]
  },
  {
   "cell_type": "markdown",
   "id": "9bafce50-d502-4dae-80b2-e7a89444b1db",
   "metadata": {},
   "source": [
    "Deep copy nested list ko full copy karta hai. Iska matlab hai ki deep copy not just the outer list, but inner lists (or sublists) \n",
    "ko bhi independent copies banaata hai. Jab aap deep copy ka use karte hain, har ek nested element ka apna separate copy banta hai, \n",
    "jisse original list aur copied list ek doosre se bilkul independent ho jaati hain."
   ]
  },
  {
   "cell_type": "raw",
   "id": "9703fa9b-0d87-4984-9bf3-e6d1a07bbaf1",
   "metadata": {},
   "source": [
    "# Original nested list\n",
    "original_list = [[1, 2, 3], [4, 5, 6],55]\n",
    "\n",
    "# Deep copy of the original list\n",
    "deep_copy = copy.deepcopy(original_list)\n",
    "\n",
    "# Modifying the inner list of the deep copy\n",
    "deep_copy[0][0] = 100\n",
    "\n",
    "deep_copy[2] = 122\n",
    "\n",
    "# Output\n",
    "print(\"Original List:\", original_list)  # Original list will remain unchanged\n",
    "print(\"Deep Copy:\", deep_copy)  \n"
   ]
  },
  {
   "cell_type": "markdown",
   "id": "cc95e29c-552f-4d50-b7df-03579fa7b349",
   "metadata": {},
   "source": [
    "# Decerorater"
   ]
  },
  {
   "cell_type": "markdown",
   "id": "e365a91c-f938-4396-a9cc-e7895db9ed33",
   "metadata": {},
   "source": [
    "How Decorators Work:\n",
    "A decorator is a function that takes another function as an argument and returns a new function that enhances or alters the \n",
    "behavior of the original function."
   ]
  },
  {
   "cell_type": "markdown",
   "id": "32d12fc9-6328-4cb7-9c2a-402e8bc0ec78",
   "metadata": {},
   "source": [
    "Python mein decorator ek special function hota hai jo kisi doosre function ko modify ya enhance karta hai bina uske original code ko badle. \n",
    "Yeh ek aise function ka kaam karta hai jo dusre function ko \"wrap\" karke uske behavior ko change karta hai."
   ]
  },
  {
   "cell_type": "markdown",
   "id": "b159a64a-bd9e-4857-8328-b37177ae6794",
   "metadata": {},
   "source": [
    "Aap samajh sakte hain ki ek decorator ek wrapper hai jo aapke function ke upar laga hota hai aur uske kaam ko badalta hai. \n",
    "Iska use commonly function ya method ko modify karne ke liye kiya jata hai, jaise ki logging, access control, timing, etc."
   ]
  },
  {
   "cell_type": "markdown",
   "id": "72477abb-e399-4aab-892b-3c397f17911a",
   "metadata": {},
   "source": [
    "Maan lo ki ek function hai greet jo ek simple greeting print karta hai. Ab agar aap chahein ki is function se pehle ya baad mein \n",
    "kuch aur kaam ho, to aap ek decorator ka use kar sakte hain."
   ]
  },
  {
   "cell_type": "code",
   "execution_count": null,
   "id": "9a153f5a-5dcc-45ed-9d21-71c3b264516a",
   "metadata": {},
   "outputs": [],
   "source": [
    "def my_decorator(func):\n",
    "    def wrapper():\n",
    "        print(\"Before the function is called\")\n",
    "        func()\n",
    "        print(\"After the function is called\")\n",
    "    return wrapper\n",
    "\n",
    "@my_decorator  # This is a decorator syntax\n",
    "def greet():\n",
    "    print(\"Hello, World!\")\n",
    "\n",
    "greet()"
   ]
  },
  {
   "cell_type": "markdown",
   "id": "b9fab6f0-615d-4387-9ff3-48975f51d921",
   "metadata": {},
   "source": [
    "Yahan pe, @my_decorator syntax use kar ke hum greet function ko wrap kar rahe hain. Jab aap greet() call karenge, to pehle \n",
    "\"Before the function is called\" print hoga, phir greet ka actual kaam hoga (i.e., \"Hello, World!\"), aur finally \n",
    "\"After the function is called\" print hoga."
   ]
  },
  {
   "cell_type": "markdown",
   "id": "bd34029c-4363-4b7a-b7a5-57575048fb46",
   "metadata": {},
   "source": [
    "# What is PIP"
   ]
  },
  {
   "cell_type": "markdown",
   "id": "1a52fd29-0248-4339-af42-eb28d25c4055",
   "metadata": {},
   "source": [
    "Pip Installs Packages or Preferred Installer Program"
   ]
  },
  {
   "cell_type": "markdown",
   "id": "ae2443ef-b094-471a-b57d-d3d55acbaf12",
   "metadata": {},
   "source": [
    "Pip ek Python ka tool hai jo aapko external libraries ya packages ko easily install, update, ya remove karne mein madad karta hai. \n",
    "Matlab, jab aapko Python mein koi extra features chahiye hote hain jo Python ke standard library mein nahi hote, \n",
    "tab aap pip ka use karte hain.\n",
    "\n",
    "Ye Python Package Index (PyPI) se connect hota hai jahan par sabhi Python packages store hote hain.\n",
    "\n",
    "Aur haan, agar aapke paas Python 3.4 ya usse upar ka version hai, toh pip pehle se hi installed hota hai!"
   ]
  },
  {
   "cell_type": "markdown",
   "id": "7c4a6010-596c-41cc-9ffc-4153f74fd5fd",
   "metadata": {},
   "source": [
    "# MODULE & PACKAGE & Library"
   ]
  },
  {
   "cell_type": "markdown",
   "id": "329f11ac-d6a2-4f37-8e28-387ec0e421dc",
   "metadata": {},
   "source": [
    "### Python Module:-\n",
    "\n",
    "Module ek single Python file hota hai jo Python code ko organize karta hai.\n",
    "Ye file .py extension ke saath hoti hai. Matlab, jab aap kisi file ko create karte ho, jaise my_module.py, toh wo ek module hai.\n",
    "Is file mein aap variables, functions, classes, etc. define kar sakte ho, aur baad mein is file ko import karke use kar sakte ho."
   ]
  },
  {
   "cell_type": "markdown",
   "id": "204fcd58-6848-43ea-ad3f-71d6635b4031",
   "metadata": {},
   "source": [
    "### Python Package\n",
    "Package ek folder hota hai jo kai modules ko organize karta hai. Matlab, package mein multiple Python files (modules) ho sakti hain.\n",
    "Package ko recognize karne ke liye us folder mein ek special file __init__.py hoti hai. Iska kaam ye hota hai ki Python ko bataye ki ye \n",
    "ek package hai.\n",
    "Ek package aapko multiple related modules ko ek jagah pe rakhne ka tareeka deta hai."
   ]
  },
  {
   "cell_type": "markdown",
   "id": "522fe816-0231-4ca9-acee-f290cd434554",
   "metadata": {},
   "source": [
    "Example: Maan lo aapke paas ek folder hai math_package jisme do files hain: addition.py aur subtraction.py. Aur is folder mein \n",
    "ek __init__.py file bhi hai, jo Python ko batata hai ki ye ek package hai.\n",
    "\n",
    "Summary:\n",
    "Module ek single .py file hoti hai, jo functions, classes, aur variables ko organize karti hai.\n",
    "Package ek folder hota hai, jo multiple modules ko group karta hai, aur us folder mein ek __init__.py file hoti hai jo package ko \n",
    "define karti hai.\n",
    "\n",
    "Module: Ek single .py file jisme code hota hai (jaise math_operations.py).\n",
    "Package: Ek folder jisme multiple modules hote hain (jaise math_package folder).\n",
    "Library: Multiple modules ya packages ka collection hota hai, jo ek common functionality provide karte hain (jaise NumPy ya Pandas)."
   ]
  },
  {
   "cell_type": "markdown",
   "id": "5cabbc63-56f7-4386-8771-133004c99021",
   "metadata": {},
   "source": [
    "### Library\n",
    "\n",
    "Library ek collection hota hai modules ka. Matlab ek library mein kai sare modules hote hain jo specific tasks ko perform karte hain.\n",
    "\n",
    "Libraries zyada general hoti hain aur kaafi functionalities provide karti hain, jaise ki data analysis, web development, \n",
    "ya machine learning.\n",
    "\n",
    "Example: NumPy ek library hai, jo kai sare modules aur functions provide karti hai jo arrays aur mathematical operations ke liye use hote hain."
   ]
  },
  {
   "cell_type": "markdown",
   "id": "98510f95-4643-4afe-983d-094657f58c4e",
   "metadata": {},
   "source": [
    "# Compare b/w Module, Library and Package?"
   ]
  },
  {
   "cell_type": "markdown",
   "id": "4fa780c7-cc27-4dd0-83c0-461617d1e9a8",
   "metadata": {},
   "source": [
    "Module (मॉड्यूल):-\n",
    "\n",
    "A module is just a single file containing Python code (with a .py extension). It can contain functions, classes, or variables, and it can \n",
    "also include runnable code.\n",
    "Example: If you have a file named math_functions.py, that file is a module.\n",
    "\n",
    "Library (लाइब्रेरी):-\n",
    "\n",
    "A library is a collection of modules that are related and packaged together to perform a specific set of tasks. It is usually a collection of many modules.\n",
    "For example, NumPy is a library for numerical computations and contains many modules to handle arrays, mathematical operations, etc.\n",
    "Libraries are often large and can include multiple modules inside them.\n",
    "\n",
    "Example: When you install NumPy using pip install numpy, you are installing a library, which includes many modules for numerical operations.\n",
    "\n",
    "Package (पैकेज):\n",
    "A package is a collection of Python modules that are grouped together in a directory and are organized in a hierarchical structure (can contain sub-packages).\n",
    "\n",
    "A package usually has a special file named __init__.py inside the folder to tell Python that the directory should be treated as a package.\n",
    "\n",
    "Example: Pandas is a package for data manipulation and analysis. It contains multiple modules inside the package.\n"
   ]
  },
  {
   "cell_type": "markdown",
   "id": "e7c429fe-aa00-42b1-9d85-bc610445b289",
   "metadata": {},
   "source": [
    "# Inheritance in Python"
   ]
  },
  {
   "cell_type": "markdown",
   "id": "67214a23-fa30-4a66-aba2-ec6da593bfb5",
   "metadata": {},
   "source": [
    "Inheritance ka matlab hai ek class apne parent class se properties aur methods inherit kar sakti hai. \n",
    "Matlab ek class dusri class se functionality ko \"adopt\" kar sakti hai.\n",
    "\n",
    "Agar ek Animal class hai jisme eat method hai, toh koi bhi specific animal, jaise Dog ya Cat, us Animal class se ye \n",
    "method inherit kar sakte hain."
   ]
  },
  {
   "cell_type": "code",
   "execution_count": null,
   "id": "26b46b30-47da-4183-8770-88e958c3849e",
   "metadata": {},
   "outputs": [],
   "source": [
    "### Single Inheritance (Ekla Class Inheritance)\n",
    "\n",
    "Isme ek class sirf ek parent class se properties aur methods inherit karti hai.\n",
    "\n",
    "# Parent class\n",
    "class Animal:\n",
    "    def speak_animal(self):\n",
    "        print(\"Animal makes a sound\")\n",
    "\n",
    "# Child class inheriting from Animal\n",
    "class Dog(Animal):\n",
    "    def speak(self):\n",
    "        print(\"Dog barks\")\n",
    "\n",
    "# Create object of Dog\n",
    "dog = Dog()\n",
    "dog.speak_animal()  # Output: Dog barks\n"
   ]
  },
  {
   "cell_type": "code",
   "execution_count": null,
   "id": "391820a6-78e5-4ff4-b864-a2b38b8a0a55",
   "metadata": {},
   "outputs": [],
   "source": [
    "### Multiple Inheritance (Multiple Classes se Inheritance): \n",
    "\n",
    "Isme ek class ek se zyada parent classes se properties aur methods inherit karti hai.\n",
    "\n",
    "# Parent class 1\n",
    "class Animal:\n",
    "    def speak_animal(self):\n",
    "        print(\"Animal makes a sound\")\n",
    "\n",
    "# Parent class 2\n",
    "class Pet:\n",
    "    def info(self):\n",
    "        print(\"This is a pet\")\n",
    "\n",
    "# Child class inheriting from both Animal and Pet\n",
    "class Dog(Animal, Pet):\n",
    "    def speak(self):\n",
    "        print(\"Dog barks\")\n",
    "\n",
    "# Create object of Dog\n",
    "dog = Dog()\n",
    "dog.speak_animal()  # Output: Dog barks\n",
    "dog.info()   # Output: This is a pet\n",
    "dog.speak()  # Dog barks\n"
   ]
  },
  {
   "cell_type": "code",
   "execution_count": null,
   "id": "0ef6cea5-abb0-470f-b76c-f0a030190c3d",
   "metadata": {},
   "outputs": [],
   "source": [
    "### Multilevel Inheritance (Ek ke baad ek Inheritance): \n",
    "\n",
    "Isme ek class doosri class se inherit karti hai, aur fir wo class kisi aur class se inherit karti hai.\n",
    "\n",
    "# Grandparent class\n",
    "class Animal:\n",
    "    def speak_animal(self):\n",
    "        print(\"Animal makes a sound\")\n",
    "\n",
    "# Parent class\n",
    "class Dog(Animal):\n",
    "    def speak_dog(self):\n",
    "        print(\"Dog barks\")\n",
    "\n",
    "# Child class\n",
    "class Puppy(Dog):\n",
    "    def speak(self):\n",
    "        print(\"Puppy whines\")\n",
    "\n",
    "# Create object of Puppy\n",
    "puppy = Puppy()\n",
    "puppy.speak_animal()  # Output: Puppy whines\n",
    "puppy.speak()\n",
    "puppy.speak_dog()\n"
   ]
  },
  {
   "cell_type": "code",
   "execution_count": null,
   "id": "66bfb32b-7c50-41ed-b733-c5e73d477347",
   "metadata": {},
   "outputs": [],
   "source": [
    "### Hierarchical Inheritance (Ek hi Parent se multiple Children): \n",
    "\n",
    "Isme ek parent class multiple child classes ko properties aur methods deti hai.\n",
    "\n",
    "# Parent class\n",
    "class Animal:\n",
    "    def speak_animal(self):\n",
    "        print(\"Animal makes a sound\")\n",
    "\n",
    "# Child class 1\n",
    "class Dog(Animal):\n",
    "    def speak_dog(self):\n",
    "        print(\"Dog barks\")\n",
    "\n",
    "# Child class 2\n",
    "class Cat(Animal):\n",
    "    def speak(self):\n",
    "        print(\"Cat meows\")\n",
    "\n",
    "# Create objects of Dog and Cat\n",
    "dog = Dog()\n",
    "cat = Cat()\n",
    "\n",
    "dog.speak_animal()  # Output: Animal makes a sound\n",
    "cat.speak_animal()  # Output: Animal makes a sound\n"
   ]
  },
  {
   "cell_type": "code",
   "execution_count": null,
   "id": "c33cb467-fce9-4a0b-a064-abf0abe02432",
   "metadata": {},
   "outputs": [],
   "source": [
    "### Hybrid Inheritance (Multiple aur Multilevel ka combination): \n",
    "\n",
    "Isme multiple aur multilevel inheritance ka combination hota hai.\n",
    "\n",
    "# Parent class 1\n",
    "class Animal:\n",
    "    def speak(self):\n",
    "        print(\"Animal makes a sound\")\n",
    "\n",
    "# Parent class 2\n",
    "class Pet:\n",
    "    def info(self):\n",
    "        print(\"This is a pet\")\n",
    "\n",
    "# Child class 1 inheriting from Animal\n",
    "class Dog(Animal):\n",
    "    def speak(self):\n",
    "        print(\"Dog barks\")\n",
    "\n",
    "# Child class 2 inheriting from both Animal and Pet\n",
    "class Cat(Animal, Pet):\n",
    "    def speak(self):\n",
    "        print(\"Cat meows\")\n",
    "\n",
    "# Create objects of Dog and Cat\n",
    "dog = Dog()\n",
    "cat = Cat()\n",
    "\n",
    "dog.speak()  # Output: Dog barks\n",
    "cat.speak()  # Output: Cat meows\n",
    "cat.info()   # Output: This is a pet"
   ]
  },
  {
   "cell_type": "markdown",
   "id": "98c8778d-02fe-439e-b2f4-cbc547bb3d69",
   "metadata": {},
   "source": [
    "#### Summery\n",
    "\n",
    "Single Inheritance: One parent class, one child class.\n",
    "\n",
    "Multiple Inheritance: One child class inherits from multiple parent classes.\n",
    "\n",
    "Multilevel Inheritance: A child class inherits from another child class, forming a hierarchy.\n",
    "\n",
    "Hierarchical Inheritance: Multiple child classes inherit from a single parent class.\n",
    "\n",
    "Hybrid Inheritance: A combination of more than one type of inheritance."
   ]
  },
  {
   "cell_type": "markdown",
   "id": "5b76ea0e-d2e7-449b-b3ca-676f0f4158ea",
   "metadata": {},
   "source": [
    "# OOP's Concept"
   ]
  },
  {
   "cell_type": "markdown",
   "id": "a46e9a8a-c6b1-4a4e-90f6-b686c2b8c3cd",
   "metadata": {},
   "source": [
    "OOP (Object-Oriented Programming) ek programming concept hai jo real-world objects ko model karne ke liye use hota hai. \n",
    "Iska main idea ye hai ki hum apni programming ko objects aur classes ke around organize karte hain. \n",
    "OOP ka goal hota hai ki hum software ko aise structure karein jo real world ke cheezon se closely relate kare,jisme behavior \n",
    "aur data dono ek saath rakhe jaate hain."
   ]
  },
  {
   "cell_type": "markdown",
   "id": "84e0a951-26c1-402b-bc97-236e8d681aeb",
   "metadata": {},
   "source": [
    "Encapsulation: Data ko hide karna aur specific methods se access karna.\n",
    "\n",
    "Inheritance: Ek class dusri class se properties aur methods inherit kar sakti hai.\n",
    "\n",
    "Polymorphism: Same method ka alag behavior alag classes me ho sakta hai.\n",
    "\n",
    "Abstraction: Sirf important details ko dikhana, baaki ko hide karna."
   ]
  },
  {
   "cell_type": "markdown",
   "id": "fdcdf2a2-1c17-43bd-b8ae-48bb6b6dd67d",
   "metadata": {},
   "source": [
    "# implicit and explicity type coversion"
   ]
  },
  {
   "cell_type": "markdown",
   "id": "ad9ab6a8-ce34-4be3-9e85-33d1b9d73b0c",
   "metadata": {},
   "source": [
    "#### Implicit Type Conversion (Automatic Type Conversion):\n",
    "\n",
    "Implicit type conversion tab hota hai jab programming language khud se data types ko change kar leti hai, bina humare intervention ke. \n",
    "Matlab, agar hum ek type ka data doosre type mein assign karte hain, aur language ko lagta hai ki conversion possible hai, \n",
    "to woh khud hi conversion kar deti hai. Yeh automatic hota hai.\n",
    "\n",
    "Example in Hinglish:\n",
    "Agar aap ek integer ko float mein assign karte ho, to language apne aap woh integer ko float mein convert kar degi.\n"
   ]
  },
  {
   "cell_type": "code",
   "execution_count": null,
   "id": "538ffc12",
   "metadata": {},
   "outputs": [],
   "source": [
    "x = 10   # int type\n",
    "y = 5.5  # float type\n",
    "result = x + y  # Python will automatically convert x to float and perform the addition.\n",
    "print(result)  # Output: 15.5"
   ]
  },
  {
   "cell_type": "markdown",
   "id": "43aa68f2-5a52-4615-89a1-cdc47d105135",
   "metadata": {},
   "source": [
    "#### Explicit Type Conversion (Manual Type Conversion):\n",
    "Explicit type conversion tab hota hai jab hum khud se data type ko change karte hain, yaani manually. \n",
    "Hum programming mein functions ka use karte hain jisse hum data type ko apne hisaab se convert kar sakein.\n",
    "\n",
    "Example in Hinglish:\n",
    "Agar aap float ko integer mein convert karna chahte ho, to aap explicitly int() function use karte ho.\n"
   ]
  },
  {
   "cell_type": "code",
   "execution_count": null,
   "id": "10cede2e",
   "metadata": {},
   "outputs": [],
   "source": [
    "x = 10.7  # float type\n",
    "result = int(x)  # Manually converting float to int\n",
    "print(result)  # Output: 10"
   ]
  },
  {
   "cell_type": "markdown",
   "id": "c568600a-4d23-40d1-bf9c-0d71789eefff",
   "metadata": {},
   "source": [
    "# Super() Keyword"
   ]
  },
  {
   "cell_type": "markdown",
   "id": "7f523a0b-b230-491a-bbb1-ee38be326fbb",
   "metadata": {},
   "source": [
    "Python mein super() ek built-in function hai jo aapko parent class ke methods ko child class se access karne mein madad karta hai. \n",
    "Ye inheritance mein kaafi useful hota hai, jahan aap child class mein parent class ke methods ko override karte hain, \n",
    "lekin kabhi-kabhi parent class ke behavior ko bhi reuse karna chahte hain.\n",
    "\n",
    "super() ka use kahan hota hai?\n",
    "\n",
    "Parent class ke methods ko call karne ke liye: Jab aap child class mein method override karte hain, tab aap super() ka use karke parent \n",
    "class ke method ko call kar sakte hain.\n",
    "\n",
    "Multiple Inheritance mein: Jab ek class do ya usse zyada parent classes se inherit karti hai, tab super() ka use karna zaroori ho jata hai."
   ]
  },
  {
   "cell_type": "code",
   "execution_count": null,
   "id": "a2cd7b00-d7a6-439d-882c-dcdcb4a41df3",
   "metadata": {},
   "outputs": [],
   "source": [
    "class Animal:\n",
    "    def __init__(self, name):\n",
    "        self.name = name\n",
    "    \n",
    "    def speak(self):\n",
    "        print(f\"{self.name} makes a sound\")\n",
    "\n",
    "class Dog(Animal):\n",
    "    def __init__(self, name, breed):\n",
    "        # super() ka use kar ke Animal class ka __init__ method call kar rahe hain\n",
    "        super().__init__(name)\n",
    "        self.breed = breed\n",
    "    \n",
    "    def speak(self):\n",
    "        # super() ka use kar ke Animal class ka speak method call kar rahe hain\n",
    "        super().speak()\n",
    "        print(f\"{self.name} barks\")\n",
    "\n",
    "# Dog class ka object banate hain\n",
    "dog = Dog(\"Tommy\", \"Golden Retriever\")\n",
    "dog.speak()"
   ]
  },
  {
   "cell_type": "markdown",
   "id": "db60a6bb-a355-4bc3-8cf6-ad4fa874a0eb",
   "metadata": {},
   "source": [
    "super().__init__(name): Ye Animal class ka __init__ method call kar raha hai, jisme name ko initialize kiya jata hai. \n",
    "Agar hum super() ka use na karte, toh hume manually Animal class ka constructor call karna padta.\n",
    "\n",
    "super().speak(): Ye Animal class ka speak() method call kar raha hai, jisme basic sound print hoti hai. \n",
    "Uske baad Dog class mein humne apni specific behavior add kiya hai (\"barks\")."
   ]
  },
  {
   "cell_type": "markdown",
   "id": "26e403b9-cb02-459c-9136-ef866d4874f7",
   "metadata": {},
   "source": [
    "# *arg and **kwarg diff..?"
   ]
  },
  {
   "cell_type": "markdown",
   "id": "773cc531-de78-4484-be97-071e1bd647f4",
   "metadata": {},
   "source": [
    "### *args (Positional Arguments):-\n",
    "\n",
    "*args ka use variable number of positional arguments ko accept karne ke liye hota hai.\n",
    "args ek tuple ki tarah behave karta hai, jisme aap multiple values pass kar sakte hain.\n",
    "Agar aapko pata na ho ke function ko kitne arguments diye jayenge, to aap *args ka use karte hain.\n"
   ]
  },
  {
   "cell_type": "code",
   "execution_count": null,
   "id": "ab314eab",
   "metadata": {},
   "outputs": [],
   "source": [
    "def sum_numbers(*args):\n",
    "    total = sum(args)\n",
    "    return total\n",
    "\n",
    "print(sum_numbers(1, 2, 3))  # Output: 6\n",
    "print(sum_numbers(10, 20, 30, 40))  # Output: 100"
   ]
  },
  {
   "cell_type": "markdown",
   "id": "33ee6f12-e888-408f-a939-43e6e7072a09",
   "metadata": {},
   "source": [
    "### **kwargs (Keyword Arguments):-\n",
    "\n",
    "**kwargs ka use variable number of keyword arguments ko accept karne ke liye hota hai.\n",
    "kwargs ek dictionary ki tarah behave karta hai, jisme aap key-value pairs pass kar sakte hain.\n",
    "Agar aapko pata na ho ke function ko kis naam ke arguments diye jayenge, to **kwargs ka use hota hai.\n"
   ]
  },
  {
   "cell_type": "code",
   "execution_count": null,
   "id": "49a40b3e",
   "metadata": {},
   "outputs": [
    {
     "name": "stdout",
     "output_type": "stream",
     "text": [
      "name: Ali\n",
      "age: 25\n",
      "country: Pakistan\n"
     ]
    }
   ],
   "source": [
    "def print_info(**kwargs):\n",
    "    for key, value in kwargs.items():\n",
    "        print(f\"{key}: {value}\")\n",
    "\n",
    "print_info(name=\"Ali\", age=25, country=\"Pakistan\")\n",
    "\n",
    "#### Output:\n",
    "\n",
    "#  name: Ali\n",
    "#  age: 25\n",
    "#  country: Pakistan"
   ]
  },
  {
   "cell_type": "markdown",
   "id": "5be0c435",
   "metadata": {},
   "source": [
    "### *args aur **kwargs Ek Sath:"
   ]
  },
  {
   "cell_type": "code",
   "execution_count": null,
   "id": "cb44f875",
   "metadata": {},
   "outputs": [],
   "source": [
    "def complete_function(positional_arg, *args, **kwargs):\n",
    "    print(f\"Positional Argument: {positional_arg}\")\n",
    "    print(\"Args:\", args)\n",
    "    print(\"Kwargs:\", kwargs)\n",
    "\n",
    "complete_function(10, 20, 30, name=\"Bittu\", age=25)\n",
    "# Output:\n",
    "# Positional Argument: 10\n",
    "# Args: (20, 30)\n",
    "# Kwargs: {'name': 'Bittu', 'age': 25}\n"
   ]
  },
  {
   "cell_type": "markdown",
   "id": "cfb1d3d1-3321-40fb-9041-32343a731996",
   "metadata": {},
   "source": [
    "### Difference:- \n",
    "\n",
    "*args positional arguments ke liye hota hai, jisme values sequence ke hisaab se pass hoti hain.\n",
    "    \n",
    "**kwargs keyword arguments ke liye hota hai, jisme keys aur values key-value pair ke form mein pass hoti hain."
   ]
  },
  {
   "cell_type": "markdown",
   "id": "764c55ae-8c5d-4562-b21e-bf7651c618b1",
   "metadata": {},
   "source": [
    "# Self Keyword:- "
   ]
  },
  {
   "cell_type": "markdown",
   "id": "4806502c-354b-45bd-a463-c7708e531ba5",
   "metadata": {},
   "source": [
    "Python mein self ek special keyword hai jo instance methods ke andar use hota hai. Ye class ke instance ko represent \n",
    "karta hai, jise hum method ke first parameter ke roop mein pass karte hain.\n",
    "\n",
    "Jab hum ek object bana kar kisi class ka method call karte hain, to self keyword ke zariye wo method us object ka \n",
    "reference le leta hai. Ye method ko apne object ke attributes aur methods ko access karne ka option deta hai.\n",
    "\n",
    "### self kya hota hai..?\n",
    "\n",
    "Jab aap koi class banate ho aur usme methods likhte ho, toh har method ko apne object ka reference chahiye hota hai.\n",
    "Python mein, self ko use karke method ko uss specific object ka reference diya jata hai.\n",
    "Matlab jab aap method call karte ho, to self us object ka pointer ho jata hai jisse method call ho raha hai.\n",
    "\n",
    "### Method ko kis object ka reference chahiye hota hai?\n",
    "Jab aap class ke kisi instance ko create karte hain, jaise dog1 = Dog(\"Buddy\", 3), tab aapka object dog1 ban gaya.\n",
    "Ab jab aap dog1.bark() call karte ho, Python internally dog1 ko self ke roop mein method ke andar pass karta hai.\n",
    "\n",
    "\n",
    "class Car:\n",
    "    def __init__(self, brand, model):\n",
    "        self.brand = brand  # self.brand object ka attribute hai\n",
    "        self.model = model  # self.model object ka attribute hai\n",
    "\n",
    "    def display_info(self):\n",
    "        print(f\"Car Brand: {self.brand}\")\n",
    "        print(f\"Car Model: {self.model}\")\n",
    "\n",
    "# Object create karte hain\n",
    "car1 = Car(\"Toyota\", \"Corolla\")\n",
    "car2 = Car(\"Honda\", \"Civic\")\n",
    "\n",
    "# Methods ko call karte hain\n",
    "car1.display_info()\n",
    "car2.display_info()\n",
    "\n",
    "### Why self is Important:\n",
    "Agar self na hota, to aapke methods ko yeh nahi pata hota ki kis object ka data access karna hai.\n",
    "self ka use karke aap apne objects ke attributes ko safely manage kar sakte hain.\n",
    "\n",
    "### self ka role:\n",
    "Object-specific: self aapke method ko object-specific banaata hai.\n",
    "Accessing object attributes: self ka use karke aap kisi bhi object ka data access kar sakte ho.\n",
    "Multiple objects: Aap ek class ke multiple objects bana sakte ho aur self ke through har object ka alag data manage kar sakte ho.\n",
    "\n",
    "### Conclusion:\n",
    "self ek special reference hai jo method ke through current object ko access karne ke liye use hota hai.\n",
    "Har instance method ko self ka parameter chahiye hota hai taaki wo apne object ka state track kar sake.\n",
    "Python mein, self ko manually pass karne ki zarurat nahi hoti; Python apne aap yeh kaam kar leta hai jab aap object \n",
    "ka method call karte hain.\n"
   ]
  },
  {
   "cell_type": "markdown",
   "id": "635cf510-4e3e-46fe-8177-d57e0636d4e0",
   "metadata": {},
   "source": [
    "# map(), filter(), and Reduce() function\n",
    "\n",
    "map(), filter(), aur reduce() Python mein built-in higher-order functions hote hain jo iterable objects (jaise lists, tuples) par operate karte hain. Inka use hum data processing mein karte hain, jaise transformations, filtering, aur accumulation. In functions ka major difference unki functionality mein hota hai:"
   ]
  },
  {
   "cell_type": "markdown",
   "id": "969628d3-4914-4675-a7f8-3600f6277769",
   "metadata": {},
   "source": [
    "map():\n",
    "function ek given function ko iterable ke har item par apply karta hai aur result ko ek new iterable (map object) \n",
    "ke roop mein return karta hai.\n",
    "\n",
    "Nahi, map() function Python mein original list ko change nahi karta hai. map() function ek new iterable return karta hai, jo ke har element par ek specified function apply kar ke banata hai. Original list ko koi bhi change nahi hoti\n",
    "\n",
    "Syntax: map(function, iterable)"
   ]
  },
  {
   "cell_type": "code",
   "execution_count": null,
   "id": "f4b945f9",
   "metadata": {},
   "outputs": [],
   "source": [
    "numbers = [1, 2, 3, 4, 5]\n",
    "squared = map(lambda x: x**2, numbers)\n",
    "print(list(squared))  # Output: [1, 4, 9, 16, 25]"
   ]
  },
  {
   "cell_type": "code",
   "execution_count": null,
   "id": "63581e45",
   "metadata": {},
   "outputs": [],
   "source": [
    "# List of numbers\n",
    "numbers = [1, 2, 3, 4, 5]\n",
    "\n",
    "# Function to calculate square\n",
    "def square(x):\n",
    "    return x * x\n",
    "\n",
    "# Applying map\n",
    "squared_numbers = map(square, numbers)\n",
    "print(list(squared_numbers))  # Output: [1, 4, 9, 16, 25]"
   ]
  },
  {
   "cell_type": "markdown",
   "id": "f67b7bfb-ef3c-45eb-877b-0fd736c14eb2",
   "metadata": {},
   "source": [
    "filter():\n",
    "function ek given function ko iterable ke har item par apply karta hai aur sirf un items ko return karta hai jahan \n",
    "function True return kare. Basically, ye filter karne ka kaam karta hai.\n",
    "\n",
    "filter() function bhi Python mein original list ko change nahi karta hai. filter() ek new iterable return karta hai jisme sirf woh elements hote hain jo given condition (function) ko satisfy karte hain.bss new list return krta ha.\n",
    "\n",
    "Syntax: filter(function, iterable)\n"
   ]
  },
  {
   "cell_type": "code",
   "execution_count": null,
   "id": "690f9e28",
   "metadata": {},
   "outputs": [],
   "source": [
    "numbers = [1, 2, 3, 4, 5]\n",
    "even_numbers = filter(lambda x: x % 2 == 0, numbers)\n",
    "print(list(even_numbers))  # Output: [2, 4]"
   ]
  },
  {
   "cell_type": "code",
   "execution_count": null,
   "id": "23cbe0de",
   "metadata": {},
   "outputs": [],
   "source": [
    "# List of numbers\n",
    "numbers = [10, 15, 20, 25, 30]\n",
    "\n",
    "# Function to check if a number is divisible by 5\n",
    "def is_divisible_by_five(x):\n",
    "    return x % 5 == 0\n",
    "\n",
    "# Applying filter\n",
    "divisible_by_five = filter(is_divisible_by_five, numbers)\n",
    "print(list(divisible_by_five))  # Output: [10, 15, 20, 25, 30]\n"
   ]
  },
  {
   "cell_type": "markdown",
   "id": "c894679a-64f1-4dd3-8252-4cf25c0aeaa6",
   "metadata": {},
   "source": [
    "reduce():\n",
    "\n",
    "reduce() function ko functools module se import karna padta hai. Ye ek accumulated result generate karta hai by applying a \n",
    "given function cumulatively to the items in an iterable. Iska output ek single value hota hai.\n",
    "\n",
    "Syntax: reduce(function, iterable, [initial])"
   ]
  },
  {
   "cell_type": "code",
   "execution_count": null,
   "id": "b197a23c",
   "metadata": {},
   "outputs": [],
   "source": [
    "from functools import reduce\n",
    "numbers = [1, 2, 3, 4, 5]\n",
    "sum_result = reduce(lambda x, y: x + y, numbers)\n",
    "print(sum_result)  # Output: 15"
   ]
  },
  {
   "cell_type": "code",
   "execution_count": null,
   "id": "8d0b0d8a",
   "metadata": {},
   "outputs": [],
   "source": [
    "from functools import reduce\n",
    "\n",
    "# List of numbers\n",
    "numbers = [1, 2, 3, 4, 5]\n",
    "\n",
    "# Function to multiply two numbers\n",
    "def multiply(x, y):\n",
    "    return x * y\n",
    "\n",
    "# Applying reduce\n",
    "product = reduce(multiply, numbers)\n",
    "print(product)  # Output: 120"
   ]
  },
  {
   "cell_type": "markdown",
   "id": "2601a7aa-f358-4dec-a839-36e831a12ca2",
   "metadata": {},
   "source": [
    "Purpose:\n",
    "map(): Transform each item in an iterable.\n",
    "filter(): Filter items based on a condition.\n",
    "reduce(): Cumulatively reduce iterable to a single value.\n",
    "\n",
    "Output:\n",
    "map(): Returns an iterable with transformed items.\n",
    "filter(): Returns an iterable with items that satisfy the condition.\n",
    "reduce(): Returns a single accumulated value.\n",
    "    \n",
    "Function Type:\n",
    "map() aur filter() functions iterable ko return karte hain, jabki reduce() ek single value return karta hai."
   ]
  },
  {
   "cell_type": "markdown",
   "id": "9ef8db3e-ea4a-4c6e-938e-1a396a0d80fb",
   "metadata": {},
   "source": [
    "Input aur Output:\n",
    "\n",
    "map(): Aap jo function dete ho, woh har element par apply hota hai aur result ek nayi iterable mein hota hai.\n",
    "filter(): Aap jo function dete ho, woh elements ko condition ke basis par filter karta hai aur True wale elements ko return karta hai.\n",
    "reduce(): Aap jo function dete ho, woh elements ko accumulate karke ek single value return karta hai."
   ]
  },
  {
   "cell_type": "markdown",
   "id": "baedf516-5a93-4b95-8b58-c28c9fb4c55f",
   "metadata": {},
   "source": [
    "Use Cases:\n",
    "\n",
    "map() ka use tab karte hain jab humein kisi list (ya iterable) ke har element par koi operation perform karna ho (jaise transformation).\n",
    "filter() ka use tab karte hain jab humein kuch specific elements ko filter karna ho (jaise filtering even numbers).\n",
    "reduce() ka use tab karte hain jab humein kisi operation (sum, multiplication, etc.) ke result ko accumulate karna ho, aur \n",
    "ek final single value chahiye ho."
   ]
  },
  {
   "cell_type": "markdown",
   "id": "cf6b9e41-5e1a-41b1-befb-d03ebabead68",
   "metadata": {},
   "source": [
    "Conclusion:\n",
    "map(): Aap jab chahte hain ki har element par ek operation apply ho.\n",
    "filter(): Aap jab specific condition ke basis par elements ko filter karte ho.\n",
    "reduce(): Aap jab cumulative calculation karna chahte ho aur ek final value chahiye ho."
   ]
  },
  {
   "cell_type": "markdown",
   "id": "2ebd0dbb-0c87-431a-8eab-6d06af75d5c9",
   "metadata": {},
   "source": [
    "# if__name__==\"__main__\"\n"
   ]
  },
  {
   "cell_type": "markdown",
   "id": "071056cc-c712-4888-88f3-8162e78deb81",
   "metadata": {},
   "source": [
    "if __name__ == \"__main__\": ek conditional statement hai jo Python mein commonly use hota hai, especially jab aap \n",
    "code ko modules mein divide karte hain.\n",
    "\n",
    "Iska kaam yeh hai ke jab aap kisi Python script ko direct execute karte hain, toh yeh condition True hoti hai. \n",
    "Agar aap usi script ko import karte hain kisi aur Python script mein, toh yeh condition False ho jati hai.\n",
    "\n",
    "\n",
    "# file1.py\n",
    "def greet():\n",
    "    print(\"Hello, World!\")\n",
    "\n",
    "if __name__ == \"__main__\":\n",
    "    greet()\n",
    "\n",
    "\n",
    "Agar aap file1.py ko directly run karte ho, toh greet() function call hoga, aur \"Hello, World!\" print hoga.\n",
    "Agar aap file1.py ko kisi aur script mein import karte ho, toh greet() function call nahi hoga automatically.\n",
    "\n",
    "Yeh condition ensure karti hai ke koi code sirf tab run ho jab script ko direct execute kiya ja raha ho, \n",
    "na ke jab usse import kiya ja raha ho. Isse code ka reuse aur modularity improve hoti hai."
   ]
  },
  {
   "cell_type": "markdown",
   "id": "eee84736-457a-4e35-a653-0fd901e988ba",
   "metadata": {},
   "source": [
    "__name__ kya hai?\n",
    "\n",
    "__name__ ek special variable hai jo Python har module ke andar automatically set karta hai. Jab bhi aap koi Python\n",
    "file likhte ho, uss file ko ek module ke roop mein treat kiya jata hai.\n",
    "\n",
    "Agar aap script ko directly run kar rahe ho (e.g., python script.py), toh __name__ ka value \"__main__\" hota hai.\n",
    "Agar aap usi script ko kisi doosri script mein import karte ho (e.g., import script), toh __name__ ka value script ke \n",
    "filename ke barabar hota hai.\n",
    "\n",
    "if __name__ == \"__main__\": ka use?\n",
    "\n",
    "Iska main purpose yeh hota hai ke aap apne code ko achhe se modularize kar sakein. Matlab, aap ek hi script ko as a module \n",
    "bhi use kar sakein aur agar aap chahein toh usse directly bhi run kar sakein bina kisi problem ke."
   ]
  },
  {
   "cell_type": "code",
   "execution_count": null,
   "id": "c04b97bb-882a-4cee-b671-e7cc7ee75dc2",
   "metadata": {},
   "outputs": [],
   "source": [
    "# script.py\n",
    "def hello():\n",
    "    print(\"Hello from script!\")\n",
    "\n",
    "if __name__ == \"__main__\":\n",
    "    print(\"This script is being run directly\")\n",
    "    hello()\n",
    "else:\n",
    "    print(\"This script has been imported\")\n",
    "\n",
    "\n",
    "1. Jab aap script ko directly run karenge:-\n",
    "\n",
    "Output:-\n",
    "This script is being run directly\n",
    "Hello from script!\n",
    "\n",
    "2. Jab aap script ko import karenge kisi doosri script mein:-\n",
    "\n",
    "Output:\n",
    "This script has been imported."
   ]
  },
  {
   "cell_type": "markdown",
   "id": "90815649-7650-4c52-bb25-7e8aa32944fd",
   "metadata": {},
   "source": [
    "### Real-World Scenario\n",
    "Imagine karen ke aapne ek file banayi hai jisme kuch utility functions hain, aur aap us file ko dusri scripts mein \n",
    "import kar ke use karte hain. Aap chahte hain ki jab aap us file ko directly run karein, toh kuch testing ya specific actions ho. \n",
    "Lekin jab aap us file ko import karenge, toh wo actions na ho.\n",
    "\n",
    "Aise situation mein if __name__ == \"__main__\": aapko allow karta hai ke aap specific code ko sirf tab run karen jab script direct \n",
    "run ho raha ho, na ke jab wo import ho raha ho."
   ]
  },
  {
   "cell_type": "markdown",
   "id": "5fdcf7d9-873a-40b0-b86c-49bcf4f915c1",
   "metadata": {},
   "source": [
    "# Class and Instance variable?\n",
    "\n",
    "Class variables aur instance variables, Python mein object-oriented programming ke concepts hain. Inko samajhna thoda important hai jab hum classes aur objects ki baat karte hain. Dono ka apna role hota hai."
   ]
  },
  {
   "cell_type": "markdown",
   "id": "a79d7920-9a4a-4a18-856c-e5a1b334583b",
   "metadata": {},
   "source": [
    "Class Variables:- \n",
    "\n",
    "Class variables wo variables hote hain jo ek class ke sare objects ke liye common hote hain.\n",
    "Ye variable class level pe define kiye jaate hain, na ki kisi specific instance (object) ke liye.\n",
    "Inki value agar change hoti hai, toh wo sabhi objects pe affect karti hai jo us class se belong karte hain.\n",
    "\n",
    "Class Level Pe Define Hote Hain: Ye variables class ke andar hi directly define kiye jaate hain, lekin self ka use nahi hota.\n",
    "Shared Between All Objects: Agar ek class ka class variable hai, toh usko sabhi instances (objects) ek hi value share karte hain.\n"
   ]
  },
  {
   "cell_type": "code",
   "execution_count": null,
   "id": "e70efca6",
   "metadata": {},
   "outputs": [],
   "source": [
    "class Car:\n",
    "    wheels = 4  # Class variable, ye sab cars ke liye common hai\n",
    "\n",
    "car1 = Car()\n",
    "car2 = Car()\n",
    "\n",
    "print(car1.wheels)  # 4\n",
    "print(car2.wheels)  # 4\n",
    "\n",
    "# Agar class variable ko change karenge\n",
    "Car.wheels = 6\n",
    "print(car1.wheels)  # 6\n",
    "print(car2.wheels)  # 6"
   ]
  },
  {
   "cell_type": "markdown",
   "id": "5a947ede-9f1d-43f0-b425-17df251c8535",
   "metadata": {},
   "source": [
    "Instance Variables:- \n",
    "\n",
    "Instance variables wo variables hote hain jo ek specific object ke liye define kiye jaate hain.\n",
    "Ye har object ka apna alag state rakhta hai. Matlab, ek object ka instance variable dusre object ke instance variable se alag hota hai.\n",
    "Inki value change karne se sirf wahi specific object pe affect hota hai.\n",
    "\n",
    "Object Level Pe Define Hote Hain:- Ye variables self ke through object ke saath associated hote hain. Matlab har object ke paas apna alag \n",
    "instance variable hota hai.\n",
    "Unique to Each Object:-  Agar ek object ka instance variable badalta hai, toh wo dusre object pe affect nahi karega."
   ]
  },
  {
   "cell_type": "code",
   "execution_count": null,
   "id": "6d9c8bd3",
   "metadata": {},
   "outputs": [],
   "source": [
    "class Car:\n",
    "    def __init__(self, color):\n",
    "        self.color = color  # Instance variable, har car ka color alag ho sakta hai\n",
    "\n",
    "car1 = Car(\"Red\")\n",
    "car2 = Car(\"Blue\")\n",
    "\n",
    "print(car1.color)  # Red\n",
    "print(car2.color)  # Blue\n",
    "\n",
    "# Agar instance variable ko change karenge\n",
    "car1.color = \"Green\"\n",
    "print(car1.color)  # Green\n",
    "print(car2.color)  # Blue"
   ]
  },
  {
   "cell_type": "markdown",
   "id": "54fc5eb8-8ba0-479f-8e7b-5893e0cd01a3",
   "metadata": {},
   "source": [
    "### Important Differences\n",
    "\n",
    "Class Variables:\n",
    "\n",
    "Common hote hain.\n",
    "Sab objects mein shared hote hain.\n",
    "Agar class variable ki value change hoti hai, toh wo sabhi objects ko effect karti hai.\n",
    "    \n",
    "Instance Variables:\n",
    "\n",
    "Object-specific hote hain.\n",
    "Har object ka apna state hota hai.\n",
    "Agar ek object ka instance variable change hota hai, toh wo sirf ussi object ko effect karta hai, baaki objects ko nahi.\n",
    "\n",
    "Class Variables: Class level pe defined hote hain, sab objects ke liye common hote hain.\n",
    "Instance Variables: Object level pe defined hote hain, har object ka apna unique value hota hai.\n",
    "Class variables ko class level pe define kiya jaata hai, aur wo sabhi objects mein shared hote hain.\n",
    "Instance variables ko object level pe define kiya jaata hai, aur har object ka apna alag instance variable hota hai."
   ]
  },
  {
   "cell_type": "markdown",
   "id": "3fd2379b-9204-47e3-8f80-f84399c9f344",
   "metadata": {},
   "source": [
    "# Assess Modifiere (Public, Provate and Protective A.M.)"
   ]
  },
  {
   "cell_type": "markdown",
   "id": "eb516196-2f02-453a-bf86-5c323154cba4",
   "metadata": {},
   "source": [
    "Python me access modifiers ka use class ke andar variables aur methods ki visibility control karne ke liye kiya jata hai. \n",
    "Ye modifiers decide karte hain ki kisi variable ya method ko kis class ya object ke outside access kiya ja sakta hai ya nahi.\n",
    "\n",
    "Python mein 3 types ke access modifiers hote hain:\n",
    "\n",
    "* Public (by default)\n",
    "* Protected\n",
    "* Private"
   ]
  },
  {
   "cell_type": "markdown",
   "id": "88273c87",
   "metadata": {},
   "source": [
    "1. Public Access Modifier:\n",
    "\n",
    "Public members wo hote hain jo class ke bahar se access kiye ja sakte hain.\n",
    "\n",
    "Python me, agar aap kisi variable ya method ke aage koi access modifier nahi lagate, to wo public hota hai by default.\n",
    "\n",
    "Aap directly isko access kar sakte hain."
   ]
  },
  {
   "cell_type": "code",
   "execution_count": 1,
   "id": "44904615-2bb4-4092-98ed-cb1ba35e6555",
   "metadata": {},
   "outputs": [
    {
     "name": "stdout",
     "output_type": "stream",
     "text": [
      "Python\n",
      "Hello, Python\n"
     ]
    }
   ],
   "source": [
    "\n",
    "class MyClass:\n",
    "    def __init__(self):\n",
    "        self.name = \"Python\"\n",
    "\n",
    "    def display(self):\n",
    "        print(\"Hello, \" + self.name)\n",
    "\n",
    "# Creating object of class\n",
    "obj = MyClass()\n",
    "\n",
    "# Accessing public variable\n",
    "print(obj.name)  # Output: Python\n",
    "\n",
    "# Accessing public method\n",
    "obj.display()  # Output: Hello, Python"
   ]
  },
  {
   "cell_type": "markdown",
   "id": "fcbc9811-c5e5-49d4-bf40-8dbf5f00d28c",
   "metadata": {},
   "source": [
    "2. Protected Access Modifier:\n",
    "\n",
    "Protected members wo hote hain jo class aur subclass ke andar access kiye ja sakte hain, lekin class ke bahar directly \n",
    "access nahi kiye ja sakte.\n",
    "\n",
    "Python mein, protected variables aur methods ko underscore (_) se denote kiya jata hai.\n",
    "\n"
   ]
  },
  {
   "cell_type": "code",
   "execution_count": null,
   "id": "8a02e938",
   "metadata": {},
   "outputs": [],
   "source": [
    "class MyClass:\n",
    "    def __init__(self):\n",
    "        self._name = \"Python\"\n",
    "\n",
    "    def _display(self):\n",
    "        print(\"Hello, \" + self._name)\n",
    "\n",
    "# Creating object of class\n",
    "obj = MyClass()\n",
    "\n",
    "# Accessing protected variable (not recommended outside class)\n",
    "print(obj._name)  # Output: Python\n",
    "\n",
    "# Accessing protected method (not recommended outside class)\n",
    "obj._display()  # Output: Hello, Python"
   ]
  },
  {
   "cell_type": "markdown",
   "id": "a6857429-21ca-4a8f-8944-cae69f15a084",
   "metadata": {},
   "source": [
    "3. Private Access Modifier:\n",
    "\n",
    "Private members wo hote hain jo sirf class ke andar hi access kiye ja sakte hain, aur bahar se unhe access nahi kiya ja sakta.\n",
    "\n",
    "Python me, private members ko double underscore (__) se denote kiya jata hai.\n"
   ]
  },
  {
   "cell_type": "code",
   "execution_count": null,
   "id": "2c262bce",
   "metadata": {},
   "outputs": [],
   "source": [
    "class MyClass:\n",
    "    def __init__(self):\n",
    "        self.__name = \"Python\"\n",
    "\n",
    "    def __display(self):\n",
    "        print(\"Hello, \" + self.__name)\n",
    "\n",
    "# Creating object of class\n",
    "obj = MyClass()\n",
    "\n",
    "# Trying to access private variable (will cause error)\n",
    "# print(obj.__name)  # This will give an AttributeError\n",
    "\n",
    "# Trying to access private method (will cause error)\n",
    "# obj.__display()  # This will give an AttributeError"
   ]
  },
  {
   "cell_type": "markdown",
   "id": "c588bc07-41be-48df-9fbd-02014be1b858",
   "metadata": {},
   "source": [
    "Conclusion:\n",
    "\n",
    "Public: Sabhi jagah se access ho sakte hain.\n",
    "\n",
    "Protected: Sirf class aur subclass se access kiye ja sakte hain.\n",
    "\n",
    "Private: Sirf class ke andar access kiye ja sakte hain (direct access possible nahi hai)."
   ]
  },
  {
   "cell_type": "markdown",
   "id": "ebbdb0b6-aa79-499f-a756-7136fe36e51f",
   "metadata": {},
   "source": [
    "# clouser"
   ]
  },
  {
   "cell_type": "markdown",
   "id": "9783cdd9-17b1-47ec-983f-16a8249f291c",
   "metadata": {},
   "source": [
    "Closures ek programming concept hota hai jo mostly functional programming languages mein use hota hai. Python, JavaScript, \n",
    "aur C++ jaise languages mein closures ka concept implement kiya jaata hai.\n",
    "\n",
    "Closure ka matlab hai, ek function jo apne enclosing (outer) function ke variables ko access kar sakta hai, even after wo outer \n",
    "function execute ho chuki hoti hai.\n",
    "\n",
    "Simple Example:\n",
    "Agar ek function outer ke andar ek function inner defined hai aur inner function outer ke variables ko use karta hai, \n",
    "toh inner function closure ban jaata hai."
   ]
  },
  {
   "cell_type": "code",
   "execution_count": null,
   "id": "213af69f",
   "metadata": {},
   "outputs": [],
   "source": [
    "def outer(x):\n",
    "    def inner(y):\n",
    "        return x + y\n",
    "    return inner\n",
    "\n",
    "closure_function = outer(10)\n",
    "print(closure_function(5))  # Output: 15"
   ]
  },
  {
   "cell_type": "markdown",
   "id": "5a1c162c",
   "metadata": {},
   "source": [
    "\n",
    "Yahan par closure_function ek closure hai jo outer function ke x variable ko access kar raha hai, even though outer \n",
    "function ka execution complete ho gaya tha.\n",
    "\n",
    "Closure ka major benefit yeh hota hai ki wo state ko preserve kar sakta hai aur functions ko encapsulate karke reusability \n",
    "ko enhance karta hai."
   ]
  },
  {
   "cell_type": "code",
   "execution_count": null,
   "id": "355ba060",
   "metadata": {},
   "outputs": [],
   "source": [
    "def outer(x):\n",
    "    def inner(y):\n",
    "        return x + y\n",
    "    return inner\n",
    "\n",
    "closure_function = outer(10)\n",
    "print(closure_function(5))  # Output: 15"
   ]
  },
  {
   "cell_type": "markdown",
   "id": "701b29c7-8422-4dbc-96cd-6bb70ee4947e",
   "metadata": {},
   "source": [
    "1. outer function ko jab call kiya jaata hai, toh x variable ko initialize kiya jaata hai.\n",
    "\n",
    "2. inner function ko outer function ke andar define kiya gaya hai, aur yeh x ko access kar sakta hai. Isliye inner ko closure kaha jaata hai.\n",
    "\n",
    "3. Jab outer(10) call kiya jaata hai, x ki value 10 ho jaati hai. outer function ke execution ke baad, inner function ko return kar diya jaata hai.\n",
    "\n",
    "4. Ab closure_function jo inner function ka reference hai, usmein ab bhi x = 10 ko yaad rakha gaya hai.\n",
    "\n",
    "5. Jab closure_function(5) ko call kiya jaata hai, toh inner function mein y = 5 hota hai, aur x ki value jo outer ke scope mein thi, woh bhi accessible hoti hai (i.e., x = 10).\n",
    "\n",
    "Toh, closure x ki value ko yaad rakhkar kaam karta hai aur x ke value ke saath kaam karta hai jab tak closure call hota hai."
   ]
  },
  {
   "cell_type": "markdown",
   "id": "4de5164c-562d-4568-a551-9e348c260bda",
   "metadata": {},
   "source": [
    "# Class, Object, Instance and Method kya hote ha?"
   ]
  },
  {
   "cell_type": "markdown",
   "id": "d5c27a07-5656-46b5-9c03-bc937d64d729",
   "metadata": {},
   "source": [
    "1. Class:\n",
    "Class ek blueprint ya template hoti hai jisme kisi object ki properties (variables) aur behaviors (methods) define kiye jate hain. \n",
    "Matlab, ek class kisi cheez ka design hai.\n"
   ]
  },
  {
   "cell_type": "code",
   "execution_count": null,
   "id": "e14fe054",
   "metadata": {},
   "outputs": [],
   "source": [
    "class Car:\n",
    "    # Properties (Variables)\n",
    "    brand = \"Toyota\"\n",
    "    model = \"Corolla\"\n",
    "    \n",
    "    # Behaviors (Methods)\n",
    "    def start(self):\n",
    "        print(\"Car is starting\")\n",
    "        \n",
    "    def stop(self):\n",
    "        print(\"Car is stopping\")"
   ]
  },
  {
   "cell_type": "markdown",
   "id": "bf62566d-6257-49b5-8bf5-a2bec00ec10d",
   "metadata": {},
   "source": [
    "2. Object:\n",
    "Object class ka ek specific instance hota hai. Jab hum class ko use karte hain, tab hum ek object banate hain. \n",
    "Ek class ke multiple objects banaye ja sakte hain, aur har object apne aap mein unique hota hai."
   ]
  },
  {
   "cell_type": "code",
   "execution_count": null,
   "id": "bb0bb168",
   "metadata": {},
   "outputs": [],
   "source": [
    "# Creating an object of the Car class\n",
    "my_car = Car()"
   ]
  },
  {
   "cell_type": "markdown",
   "id": "5be5291f-1a0e-4d75-ab2f-eff639f8048e",
   "metadata": {},
   "source": [
    "3. Instance:\n",
    "Instance bhi object hi hota hai, magar jab hum ek object ko class ka part bana lete hain, to hum usko \"instance\" kehte hain. \n",
    "Basically, instance ek object ka real-world representation hai jo class ka ek copy hota hai."
   ]
  },
  {
   "cell_type": "code",
   "execution_count": null,
   "id": "a3e99afd",
   "metadata": {},
   "outputs": [],
   "source": [
    "\n",
    "# Here, 'my_car' is an instance of the Car class\n",
    "print(my_car.brand)  # Output: Toyota"
   ]
  },
  {
   "cell_type": "markdown",
   "id": "618de0b9-ec5e-4a3c-801c-373d11d22059",
   "metadata": {},
   "source": [
    "4. Method:\n",
    "Method ek function hoti hai jo class ke andar define hoti hai. Yeh class ke objects ke behavior ko define karti hai,\n",
    "matlab kya action perform karna hai. Method ko call karke hum object ke behavior ko change kar sakte hain.\n"
   ]
  },
  {
   "cell_type": "code",
   "execution_count": null,
   "id": "d7eba2ed",
   "metadata": {},
   "outputs": [],
   "source": [
    "# Calling methods of the 'my_car' object\n",
    "my_car.start()  # Output: Car is starting\n",
    "my_car.stop()   # Output: Car is stopping"
   ]
  },
  {
   "cell_type": "markdown",
   "id": "6e696bee-3a64-4cde-b19d-284eaa73a9a8",
   "metadata": {},
   "source": [
    "Summary:\n",
    "Class: Blueprint ya template hoti hai jo define karti hai ki object ki properties aur behavior kya honge.\n",
    "Object: Class ka ek specific instance, jo real-world entity ka representation hota hai.\n",
    "Instance: Object ka real-world example, jo class ka ek copy hota hai.\n",
    "Method: Class ke andar ka function jo object ka behavior define karta hai."
   ]
  },
  {
   "cell_type": "markdown",
   "id": "f0dac41d-3e5a-443e-9f9f-01f090055df8",
   "metadata": {},
   "source": [
    "# staticmethod & classmethod"
   ]
  },
  {
   "cell_type": "markdown",
   "id": "a5084d2f-7b75-4802-9922-d75c90090612",
   "metadata": {},
   "source": [
    "Static Method:\n",
    "\n",
    "Kya hai? Ye ek aisi method hoti hai jo class se related kisi cheez ko directly access nahi karti. Matlab, na toh class ka reference (cls)\n",
    "chahiye hota hai aur na hi object ka reference (self).\n",
    "\n",
    "Kab use karein? Jab aapko kisi aise function ki zaroorat ho jo class ya object se independent ho, matlab bas input ke base pe kaam kare.\n"
   ]
  },
  {
   "cell_type": "code",
   "execution_count": null,
   "id": "0be113a9",
   "metadata": {},
   "outputs": [],
   "source": [
    "class Calculator:\n",
    "    @staticmethod\n",
    "    def add(a, b):\n",
    "        return a + b\n",
    "\n",
    "# Aap bina object banaye directly call kar sakte ho\n",
    "print(Calculator.add(2, 3))  # Output: 5"
   ]
  },
  {
   "cell_type": "markdown",
   "id": "eb48e4f8-deac-44f7-89f5-2d905e8b6bff",
   "metadata": {},
   "source": [
    "Class Method:\n",
    "\n",
    "Kya hai? Ye method class se related hoti hai aur isko call karte waqt class ka reference (cls) automatically pass hota hai.\n",
    "\n",
    "Isse aap class ke data (class variables) ko access ya modify kar sakte ho.\n",
    "\n",
    "Kab use karein? Jab aapko method ko class ke context mein kaam karne ki zaroorat ho, matlab class ke variables ya methods ko access\n",
    "karna ho."
   ]
  },
  {
   "cell_type": "code",
   "execution_count": null,
   "id": "b2ff2f04",
   "metadata": {},
   "outputs": [],
   "source": [
    "class Dog:\n",
    "    breed = \"Labrador\"\n",
    "\n",
    "    @classmethod\n",
    "    def display_breed(cls):\n",
    "        print(f\"This dog is a {cls.breed}\")\n",
    "\n",
    "# Aap class ke reference ke saath method ko call kar sakte ho\n",
    "Dog.display_breed()  # Output: This dog is a Labrador"
   ]
  },
  {
   "cell_type": "markdown",
   "id": "8b6269e4-06b1-4fd4-82d8-e2bbc17c5712",
   "metadata": {},
   "source": [
    "Static Method: Bas independent function hai, class ya object ke kisi data ko use nahi karta.\n",
    "\n",
    "Class Method: Class se related hota hai, aur cls ke through class ke data ko use kar sakta hai.\n",
    "\n",
    "staticmethod class ya instance variables ko directly access nahi kar sakta.\n",
    "Agar aapko class variable ko access karna ho toh classmethod ka use karein, jisme cls parameter hoga."
   ]
  },
  {
   "cell_type": "markdown",
   "id": "ed2e1a6b-393c-47bc-a049-e73700809202",
   "metadata": {},
   "source": [
    "##### kya staticsmethod class ke variable or method ko assces kr shkte ha?\n",
    "\n",
    "Nahi, staticmethod class ke variables (attributes) ya methods ko directly access nahi kar sakta. Static method ko na toh class \n",
    "ki state (cls) ki zaroorat hoti hai aur na hi instance ki state (self). Iska matlab hai ke staticmethod ko sirf woh cheezein \n",
    "accessible hoti hain jo us method ke arguments mein pass ki gayi hoti hain, ya koi external data jo method ke andar use ho.\n",
    "\n",
    "class MyClass:\n",
    "    class_variable = 10\n",
    "\n",
    "    @staticmethod\n",
    "    def static_method():\n",
    "        # Ye error dega, kyunki static method ko class_variable ko directly access karne ka access nahi hai\n",
    "        # print(class_variable)  # This will raise an error\n",
    "        print(\"Static method called!\")\n",
    "\n",
    "    @staticmethod\n",
    "    def access_class_variable():\n",
    "        # Static method cannot access class variables directly, so this won't work\n",
    "        print(MyClass.class_variable)  # We can access it via the class name\n",
    "        # Static methods cannot use class instance variables directly either\n",
    "\t\t\n",
    "Is example mein, agar aap static_method ko call karte ho, toh wo class_variable ko access nahi kar sakta, \n",
    "kyunki wo method sirf static context mein run ho rahi hai. Lekin agar aap access_class_variable use karte hain, \n",
    "toh class_variable ko class ke naam se access kiya jaa sakta hai (MyClass.class_variable)."
   ]
  },
  {
   "cell_type": "markdown",
   "id": "bded9bfe-7c6a-48ec-b0e7-84ece04acd26",
   "metadata": {},
   "source": [
    "# Generator "
   ]
  },
  {
   "cell_type": "markdown",
   "id": "895b3b85-7147-41fd-8a5a-80fb223a0f94",
   "metadata": {},
   "source": [
    "Python mein generator ek special type ka iterator hota hai jo values ko lazy way mein generate karta hai, yani ek time par sirf \n",
    "ek value generate hoti hai aur memory mein store nahi hoti. Iska matlab hai ki agar aapko bohot saari values ka sequence chahiye, \n",
    "to generator unko ek-ek karke produce karega jab zarurat ho, instead of ek baar mein saari values ko memory mein rakhne ke.\n",
    "\n",
    "\n",
    "Generator kaise kaam karta hai?\n",
    "Generator ko define karte waqt hum yield keyword ka use karte hain. yield ek value return karta hai aur function ko \n",
    "suspend karta hai, phir jab next value ki zarurat hoti hai to function wahan se dobara continue hota hai."
   ]
  },
  {
   "cell_type": "code",
   "execution_count": null,
   "id": "9eaf0ddc",
   "metadata": {},
   "outputs": [],
   "source": [
    "def my_generator():\n",
    "    yield 1\n",
    "    yield 2\n",
    "    yield 3\n",
    "\n",
    "gen = my_generator()\n",
    "\n",
    "# Values ko print karte hain ek-ek karke\n",
    "print(next(gen))  # Output: 1\n",
    "print(next(gen))  # Output: 2\n",
    "print(next(gen))  # Output: 3\n"
   ]
  },
  {
   "cell_type": "markdown",
   "id": "10765a52-f6c6-4075-a06b-f37a5bc1b874",
   "metadata": {},
   "source": [
    "Is example mein, my_generator function ek generator object return karta hai. Jab hum next() call karte hain, to har bar ek new value \n",
    "milti hai, aur function ko suspend kar diya jata hai jab tak agla next() call nahi hota.\n",
    "\n",
    "Aapko generators ka use kabhi karna padta hai jab aapko large datasets ya long-running sequences ke sath kaam karna ho, \n",
    "aur aapko performance aur memory ko optimize karna ho."
   ]
  },
  {
   "cell_type": "markdown",
   "id": "0d5a7f6d-b484-4a72-abb2-627ea141e8e3",
   "metadata": {},
   "source": [
    "Generator ke benefits:-\n",
    "\n",
    "Memory efficient: Generators large sequences ko handle karte waqt kam memory consume karte hain.\n",
    "Lazy evaluation: Jab tak kisi value ki zarurat na ho, tab tak woh generate nahi hoti.\n",
    "Performance improvement: Agar aapko sirf kuch values ki zarurat ho, to pura sequence generate karne ki bajaye aap sirf required \n",
    "values ko generate kar sakte hain."
   ]
  },
  {
   "cell_type": "markdown",
   "id": "6e622a17-b397-4d71-b6ed-9c0be492e1a5",
   "metadata": {},
   "source": [
    "# Polymorphism "
   ]
  },
  {
   "cell_type": "markdown",
   "id": "f497167b-0960-428f-a622-2f4812f7848f",
   "metadata": {},
   "source": [
    "Polymorphism ek concept hai jo object-oriented programming (OOP) mein use hota hai. Iska matlab hai \"many forms\" yaani ki ek object ya method ko alag-alag tareekon se use karna. Iska basic idea yeh hai ke ek hi name ya method ko alag-alag types ya forms mein use kiya ja sakta hai, depending on the context."
   ]
  },
  {
   "cell_type": "markdown",
   "id": "17a50756-08c0-48dd-bff2-9312adb7a190",
   "metadata": {},
   "source": [
    "# Types of Polymorphism\n",
    "\n",
    "### Compile-time Polymorphism (Static Polymorphism)"
   ]
  },
  {
   "cell_type": "markdown",
   "id": "28ef4de5-3f66-4843-9b86-5f9fec11ca5f",
   "metadata": {},
   "source": [
    "1. Compile-time Polymorphism (Static Polymorphism) ek aisi polymorphism hai jo program ke compile hone ke waqt resolve hoti hai. Isme method overloading aur operator overloading ka concept aata hai."
   ]
  },
  {
   "cell_type": "markdown",
   "id": "60681c19-9fc4-4dd2-8aad-a30ac1989f0c",
   "metadata": {},
   "source": [
    "Iska matlab hai ke polymorphism ko compile ke waqt resolve kiya jata hai. Yeh method overloading ya operator overloading ke through achieve hota hai.\n",
    "\n",
    "Method Overloading: Jab ek hi method name ko multiple times declare kiya jata hai with different parameter lists (number or types of arguments), to usse compile-time polymorphism kehte hain."
   ]
  },
  {
   "cell_type": "markdown",
   "id": "3e1558ff-13b9-4480-a497-3de4f5cdc486",
   "metadata": {},
   "source": [
    "Python mein method overloading ko directly support nahi kiya jata, kyunki Python mein functions ko dynamic arguments ke saath \n",
    "define kiya ja sakta hai. Lekin hum method overloading ka behavior achieve kar sakte hain using default arguments or variable-length \n",
    "arguments."
   ]
  },
  {
   "cell_type": "code",
   "execution_count": null,
   "id": "5e07f7cb",
   "metadata": {},
   "outputs": [],
   "source": [
    "class Display:\n",
    "    def show(self, *args):\n",
    "        if len(args) == 1:\n",
    "            print(f\"Displaying: {args[0]}\")\n",
    "        elif len(args) == 2:\n",
    "            print(f\"Displaying: {args[0]} and {args[1]}\")\n",
    "\n",
    "# Test\n",
    "obj = Display()\n",
    "obj.show(\"Hello\")        # Displaying: Hello\n",
    "obj.show(\"Hello\", \"World\")  # Displaying: Hello and World\n",
    "\n",
    "\n",
    "# Yahaan hum *args ka use kar rahe hain, jo ki method overloading ka behavior achieve karta hai."
   ]
  },
  {
   "cell_type": "markdown",
   "id": "3dca86f4-b06c-46df-90f9-c1b35d05c7d1",
   "metadata": {},
   "source": [
    "###  Runtime Polymorphism (Dynamic Polymorphism)"
   ]
  },
  {
   "cell_type": "markdown",
   "id": "d08a46d8-7209-4b34-840e-9867227f0656",
   "metadata": {},
   "source": [
    "Iska matlab hai ke polymorphism ko runtime ke dauran resolve kiya jata hai. Yeh method overriding ke through hota hai.\n",
    "\n",
    "Method Overriding: Jab base class mein ek method hota hai aur derived class mein usi method ko override kiya jata hai, to runtime ke waqt jo method call hota hai, woh derived class ka hota hai, na ki base class ka."
   ]
  },
  {
   "cell_type": "markdown",
   "id": "594bf75f-6f7f-4805-ba26-fc7945776b26",
   "metadata": {},
   "source": [
    "Compile-time Polymorphism: Method overloading, Operator overloading.\n",
    "Runtime Polymorphism: Method overriding.\n",
    "\n",
    "    Aapka sawal bilkul valid hai! Lekin operator overriding ka concept actually C++ mein hi exist karta hai, aur yeh runtime polymorphism ke under nahi aata."
   ]
  },
  {
   "cell_type": "code",
   "execution_count": null,
   "id": "ae53e2b2-e0b8-475a-bf3c-a852849f5f54",
   "metadata": {},
   "outputs": [],
   "source": [
    "class Animal:\n",
    "    def sound(self):\n",
    "        print(\"Animal makes a sound\")\n",
    "\n",
    "class Dog(Animal):\n",
    "    def sound(self):\n",
    "        print(\"Dog barks\")\n",
    "\n",
    "class Cat(Animal):\n",
    "    def sound(self):\n",
    "        print(\"Cat meows\")\n",
    "\n",
    "# Test\n",
    "animals = [Dog(), Cat(), Animal()]\n",
    "\n",
    "for animal in animals:\n",
    "    animal.sound()  # Will call the appropriate overridden method\n",
    "\n",
    "\n",
    "#Output:-\n",
    "Dog barks\n",
    "Cat meows\n",
    "Animal makes a sound\n",
    "\n",
    "\n",
    "Yahaan, runtime mein jab hum objects ko iterate karte hain, tab Python dynamic dispatch ke through correct sound() method call \n",
    "karta hai, jo ki derived class ka overridden method hota hai."
   ]
  },
  {
   "cell_type": "markdown",
   "id": "a85559ea-2e16-45d4-a795-4f84ccb1dfcf",
   "metadata": {},
   "source": [
    "Yahan pe sound() method ko Animal, Dog, aur Cat classes mein define kiya gaya hai.\n",
    "Polymorphism ke wajah se, jab hum sound() method ko call karte hain, toh wo alag-alag objects ke liye alag-alag output deta hai, depending on the type of object (Animal, Dog, or Cat).\n",
    "Isse method overriding ka concept samajh mein aata hai, jisme subclass apne parent class ke method ko override karta hai apne specific implementation ke liye."
   ]
  },
  {
   "cell_type": "markdown",
   "id": "9f86703d-9883-4e41-936d-8c8ca3ee035e",
   "metadata": {},
   "source": [
    "Compile-time Polymorphism (Method Overloading): Python mein hum argument types ko dynamically handle karke method overloading ka behavior achieve kar sakte hain.\n",
    "Runtime Polymorphism (Method Overriding): Yeh Python mein directly inheritance aur method overriding ke through possible hota hai."
   ]
  },
  {
   "cell_type": "markdown",
   "id": "c3e5a324-a8ef-46aa-af4e-c151d46e1094",
   "metadata": {},
   "source": [
    "# Encapsulation "
   ]
  },
  {
   "cell_type": "markdown",
   "id": "9995ef99-b99f-447c-b0fb-b70fe3e76606",
   "metadata": {},
   "source": [
    "Encapsulation Python mein ek object-oriented programming (OOP) concept hai, jisme data aur methods ko ek class ke andar bundle kiya jata hai. Matlab, ek object ki internal state ko hidden rakha jata hai, aur external world ko us object ke state ko access karne ke liye kuch controlled methods provide kiye jate hain.\n",
    "\n",
    "Encapsulation ka matlab hai data ko chhupana aur access ko control karna.\n",
    "\n",
    "Python mein, jab hum class banate hain, to uske andar ke data (variables) aur functions (methods) ko hum protect kar sakte hain.\n",
    "\n",
    "Jab hum kisi object ko create karte hain, toh hum uske internal workings ko hide karte hain aur bas kuch specific methods provide karte hain, jisse bahar wale log us object ke saath interact kar sakein without knowing its internal details."
   ]
  },
  {
   "cell_type": "markdown",
   "id": "b56e85eb-f70d-4832-82e0-82d1d31d5f10",
   "metadata": {},
   "source": [
    "1. Data Hiding:- Class ke andar variables ko directly access karne se roka jata hai. Isse aap kisi object ke internal data ko directly modify nahi kar sakte. Sirf class ke methods ke through hi un data ko access kiya ja sakta hai.\n",
    "Hum kisi class ke andar ke data ko directly access nahi karne dete, balki kuch specific functions ke through hi us data ko access karte hain."
   ]
  },
  {
   "cell_type": "markdown",
   "id": "ac95e002-c853-4d0d-84a1-59fe79925545",
   "metadata": {},
   "source": [
    "2. Access Modifiers: Python mein aap variables aur methods ke access level ko control kar sakte hain.\n",
    "\n",
    "Public: Ye variables aur methods koi bhi access kar sakta hai.\n",
    "Private: Ye variables aur methods sirf class ke andar hi accessible hote hain. Ye variable ko _ (single underscore) ya __ (double underscore) laga ke banaya ja sakta hai.\n",
    "\n",
    "Public aur private:\n",
    "Public ka matlab hai wo data ya function koi bhi access kar sakta hai.\n",
    "Private ka matlab hai wo data ya function sirf class ke andar hi use ho sakta hai, aur bahar se usko direct access nahi kiya ja sakta."
   ]
  },
  {
   "cell_type": "code",
   "execution_count": null,
   "id": "77fec9ea-8429-4307-bf20-1f06829336a0",
   "metadata": {},
   "outputs": [],
   "source": [
    "class Car:\n",
    "    def __init__(self, brand, model):\n",
    "        self.brand = brand     # Public data (sabko access kar sakte hain)\n",
    "        self.__model = model   # Private data (sirf class ke andar access ho sakta hai)\n",
    "\n",
    "    # Ye function private data ko access karne ka tarika hai\n",
    "    def get_model(self):\n",
    "        return self.__model\n",
    "\n",
    "    def set_model(self, model):\n",
    "        self.__model = model\n",
    "\n",
    "# Car ka object banate hain\n",
    "car1 = Car(\"Toyota\", \"Corolla\")\n",
    "print(car1.brand)          # Public data ko directly access kiya (output: Toyota)\n",
    "print(car1.get_model())    # Private data ko function ke through access kiya (output: Corolla)\n",
    "\n",
    "# Directly private data ko access nahi kar sakte\n",
    "# print(car1.__model)     # Ye error dega\n"
   ]
  },
  {
   "cell_type": "markdown",
   "id": "eff29770-1a67-4891-af37-6a869509ed7f",
   "metadata": {},
   "source": [
    "Public variables ko directly access kiya ja sakta hai (jaise car1.brand).\n",
    "Private variables ko direct access nahi kar sakte. Unhe access karne ke liye hum methods (jaise get_model()) use karte hain.\n",
    "Public variables can be accessed directly (like car1.brand).\n",
    "Private variables (denoted with __ before the name) can only be accessed through methods like get_model() and set_model().\n",
    "\n",
    "Encapsulation ka fayda yeh hai ki hum data ko protect kar sakte hain aur ensure kar sakte hain ki koi bhi galat tareeke se data ko change na kar de."
   ]
  },
  {
   "cell_type": "markdown",
   "id": "2c51221d-5764-4b1d-9f09-2560f4408b7a",
   "metadata": {},
   "source": [
    "# Abstraction "
   ]
  },
  {
   "cell_type": "markdown",
   "id": "4ae42a6c-28b9-46a4-bc4e-412db9f49ed7",
   "metadata": {},
   "source": [
    "Python mein abstraction ek programming concept hai jisme hum kisi cheez ke implementation details ko hide kar dete hain aur sirf uske essential features ko show karte hain. Isse hum complex cheezon ko simplify kar paate hain.\n",
    "\n",
    "Abstraction ka main purpose hai ki hum unnecessary details ko chhupa kar sirf relevant information dikhayein. Ye mostly classes aur methods mein hota hai."
   ]
  },
  {
   "cell_type": "code",
   "execution_count": null,
   "id": "ce42207e-a046-46ab-9767-ab5bf404eb72",
   "metadata": {},
   "outputs": [],
   "source": [
    "# Abstraction ko implement karne ke liye Python mein hum abstract classes aur abstract methods ka use karte hain. Iska example yeh hai:\n",
    "\n",
    "from abc import ABC, abstractmethod\n",
    "\n",
    "# Abstract class\n",
    "class Animal(ABC):\n",
    "\n",
    "    # Abstract method\n",
    "    @abstractmethod\n",
    "    def sound(self):\n",
    "        pass\n",
    "\n",
    "# Subclass\n",
    "class Dog(Animal):\n",
    "    \n",
    "    # Implementing the abstract method\n",
    "    def sound(self):\n",
    "        return \"Bark\"\n",
    "\n",
    "class Cat(Animal):\n",
    "    \n",
    "    # Implementing the abstract method\n",
    "    def sound(self):\n",
    "        return \"Meow\"\n",
    "\n",
    "# Creating objects of Dog and Cat\n",
    "dog = Dog()\n",
    "cat = Cat()\n",
    "\n",
    "# Calling the implemented method\n",
    "print(dog.sound())  # Output: Bark\n",
    "print(cat.sound())  # Output: Meow\n"
   ]
  },
  {
   "cell_type": "markdown",
   "id": "b931eafc-e8da-4041-9821-091f3062cc3f",
   "metadata": {},
   "source": [
    "Animal class ek abstract class hai jisme sound() method ko abstract declare kiya gaya hai.\n",
    "Dog aur Cat classes mein sound() method ko implement kiya gaya hai, jo ke unke specific behavior ko define karte hain.\n",
    "Jab hum Dog aur Cat ka object bana kar unka sound() method call karte hain, toh yeh unka specific behavior show karta hai\n",
    "\n",
    "Abstraction ka fayda yeh hai ki hum bas yeh dekhte hain ki sound() method kis cheez ko represent karta hai, bina yeh jaane ki wo method internally kaise kaam kar raha hai."
   ]
  },
  {
   "cell_type": "markdown",
   "id": "db42d8dd-0dcb-47f0-af9f-4b819d3191e1",
   "metadata": {},
   "source": [
    "# Constructor "
   ]
  },
  {
   "cell_type": "markdown",
   "id": "65dc591e-6810-4379-ada5-75a7ad9d422c",
   "metadata": {},
   "source": [
    "Python mein constructor ek special method hota hai jo ek class ka object create hone par automatically call hota hai. Iska main purpose class ke objects ko initialize karna (initialize karte waqt unki properties set karna) hota hai."
   ]
  },
  {
   "cell_type": "markdown",
   "id": "39cea25e-afae-406e-a3cd-eae743d493c0",
   "metadata": {},
   "source": [
    "class MyClass:\n",
    "    def __init__(self, param1, param2):\n",
    "        self.param1 = param1\n",
    "        self.param2 = param2\n",
    "\n",
    "Yahan par __init__ method ko constructor ke roop mein jaana jaata hai. Jab bhi aap MyClass ka object banate hain,\n",
    "to __init__ method automatically call hota hai."
   ]
  },
  {
   "cell_type": "code",
   "execution_count": null,
   "id": "68cee80e-817e-4941-9cc9-b7d4ae317e5b",
   "metadata": {},
   "outputs": [],
   "source": [
    "# 1. Default Constructor: Jab constructor mein koi parameter nahi hota, ya parameters default values ke saath diye jaate hain.\n",
    "\n",
    "class Person:\n",
    "    def __init__(self, name=\"Unknown\", age=0):\n",
    "        self.name = name\n",
    "        self.age = age\n"
   ]
  },
  {
   "cell_type": "markdown",
   "id": "2e6eb2a9-ab91-47c5-aa47-f0846ba5ff68",
   "metadata": {},
   "source": [
    "2. Parameterized Constructor: Jab constructor mein parameters diye jaate hain aur unke zariye object ko initialize kiya jaata hai.\n",
    "\n",
    "class Person:\n",
    "    def __init__(self, name, age):\n",
    "        self.name = name\n",
    "        self.age = age\n"
   ]
  },
  {
   "cell_type": "markdown",
   "id": "cc5b5e75-9962-4afc-9097-0ebc10729698",
   "metadata": {},
   "source": [
    "Constructor ka Important Role:\n",
    "\n",
    "Object Initialization: Constructor ka main role hota hai object ko initialize karna. Jab bhi koi object banaya jaata hai, usko kuch default values ya specific values assign ki jaati hain.\n",
    "\n",
    "Memory Management: Constructor object creation ke time memory ko allocate karta hai, jisme uske attributes store kiye jaate hain.\n",
    "\n",
    "Encapsulation: Constructor object ke properties ko initialize karke ek encapsulated environment create karta hai, jisme object ki internal details hidden hoti hain. Ye concept OOP (Object-Oriented Programming) ka ek part hai."
   ]
  }
 ],
 "metadata": {
  "kernelspec": {
   "display_name": "Python 3",
   "language": "python",
   "name": "python3"
  },
  "language_info": {
   "codemirror_mode": {
    "name": "ipython",
    "version": 3
   },
   "file_extension": ".py",
   "mimetype": "text/x-python",
   "name": "python",
   "nbconvert_exporter": "python",
   "pygments_lexer": "ipython3",
   "version": "3.12.6"
  }
 },
 "nbformat": 4,
 "nbformat_minor": 5
}
